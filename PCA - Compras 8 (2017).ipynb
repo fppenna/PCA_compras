{
 "cells": [
  {
   "cell_type": "code",
   "execution_count": 1,
   "metadata": {},
   "outputs": [],
   "source": [
    "import pandas as pd"
   ]
  },
  {
   "cell_type": "code",
   "execution_count": 2,
   "metadata": {},
   "outputs": [],
   "source": [
    "import numpy as np"
   ]
  },
  {
   "cell_type": "code",
   "execution_count": 3,
   "metadata": {},
   "outputs": [],
   "source": [
    "from sklearn.decomposition import PCA\n",
    "from sklearn.preprocessing import StandardScaler"
   ]
  },
  {
   "cell_type": "code",
   "execution_count": 4,
   "metadata": {},
   "outputs": [],
   "source": [
    "import seaborn as sns"
   ]
  },
  {
   "cell_type": "code",
   "execution_count": 7,
   "metadata": {},
   "outputs": [],
   "source": [
    "bac2017_lp_muestra2=pd.read_csv('bac2017_lp_muestra2.csv')"
   ]
  },
  {
   "cell_type": "code",
   "execution_count": 9,
   "metadata": {},
   "outputs": [],
   "source": [
    "bac2017_lp_muestra1=pd.read_csv('bac2017_lp_muestra1.csv')"
   ]
  },
  {
   "cell_type": "code",
   "execution_count": 10,
   "metadata": {},
   "outputs": [
    {
     "data": {
      "text/html": [
       "<div>\n",
       "<style scoped>\n",
       "    .dataframe tbody tr th:only-of-type {\n",
       "        vertical-align: middle;\n",
       "    }\n",
       "\n",
       "    .dataframe tbody tr th {\n",
       "        vertical-align: top;\n",
       "    }\n",
       "\n",
       "    .dataframe thead th {\n",
       "        text-align: right;\n",
       "    }\n",
       "</style>\n",
       "<table border=\"1\" class=\"dataframe\">\n",
       "  <thead>\n",
       "    <tr style=\"text-align: right;\">\n",
       "      <th></th>\n",
       "      <th>ocid</th>\n",
       "      <th>year</th>\n",
       "      <th>tender/status</th>\n",
       "      <th>tender/procurementMethod</th>\n",
       "      <th>tender/value/amount</th>\n",
       "      <th>tender/tenderPeriod/durationInDays</th>\n",
       "      <th>tender/items/0/quantity</th>\n",
       "      <th>outliers_value_amount</th>\n",
       "      <th>outliers_duration</th>\n",
       "      <th>outliers_cantidad</th>\n",
       "    </tr>\n",
       "  </thead>\n",
       "  <tbody>\n",
       "    <tr>\n",
       "      <th>0</th>\n",
       "      <td>ocds-bulbcf-101-0779-LPU17</td>\n",
       "      <td>2017</td>\n",
       "      <td>complete</td>\n",
       "      <td>open</td>\n",
       "      <td>3900000.00</td>\n",
       "      <td>22.0</td>\n",
       "      <td>1.00</td>\n",
       "      <td>2.320089</td>\n",
       "      <td>5.000000</td>\n",
       "      <td>1.000000</td>\n",
       "    </tr>\n",
       "    <tr>\n",
       "      <th>1</th>\n",
       "      <td>ocds-bulbcf-101-1181-LPU17</td>\n",
       "      <td>2017</td>\n",
       "      <td>complete</td>\n",
       "      <td>open</td>\n",
       "      <td>16288800.00</td>\n",
       "      <td>9.0</td>\n",
       "      <td>360.00</td>\n",
       "      <td>13.287103</td>\n",
       "      <td>0.666667</td>\n",
       "      <td>0.631818</td>\n",
       "    </tr>\n",
       "    <tr>\n",
       "      <th>2</th>\n",
       "      <td>ocds-bulbcf-101-1394-LPU17</td>\n",
       "      <td>2017</td>\n",
       "      <td>cancelled</td>\n",
       "      <td>open</td>\n",
       "      <td>2200000.00</td>\n",
       "      <td>10.0</td>\n",
       "      <td>1.00</td>\n",
       "      <td>0.815187</td>\n",
       "      <td>1.000000</td>\n",
       "      <td>1.000000</td>\n",
       "    </tr>\n",
       "    <tr>\n",
       "      <th>3</th>\n",
       "      <td>ocds-bulbcf-101-1466-LPU17</td>\n",
       "      <td>2017</td>\n",
       "      <td>complete</td>\n",
       "      <td>open</td>\n",
       "      <td>7500000.00</td>\n",
       "      <td>7.0</td>\n",
       "      <td>1.00</td>\n",
       "      <td>5.506939</td>\n",
       "      <td>0.000000</td>\n",
       "      <td>1.000000</td>\n",
       "    </tr>\n",
       "    <tr>\n",
       "      <th>4</th>\n",
       "      <td>ocds-bulbcf-101-1583-LPU17</td>\n",
       "      <td>2017</td>\n",
       "      <td>complete</td>\n",
       "      <td>open</td>\n",
       "      <td>30000000.00</td>\n",
       "      <td>9.0</td>\n",
       "      <td>1.00</td>\n",
       "      <td>25.424754</td>\n",
       "      <td>0.666667</td>\n",
       "      <td>1.000000</td>\n",
       "    </tr>\n",
       "    <tr>\n",
       "      <th>5</th>\n",
       "      <td>ocds-bulbcf-101-1612-LPU17</td>\n",
       "      <td>2017</td>\n",
       "      <td>complete</td>\n",
       "      <td>open</td>\n",
       "      <td>43000000.00</td>\n",
       "      <td>14.0</td>\n",
       "      <td>1.00</td>\n",
       "      <td>36.932825</td>\n",
       "      <td>2.333333</td>\n",
       "      <td>1.000000</td>\n",
       "    </tr>\n",
       "    <tr>\n",
       "      <th>6</th>\n",
       "      <td>ocds-bulbcf-146-0075-LPU17</td>\n",
       "      <td>2017</td>\n",
       "      <td>complete</td>\n",
       "      <td>open</td>\n",
       "      <td>1488000.00</td>\n",
       "      <td>8.0</td>\n",
       "      <td>12.00</td>\n",
       "      <td>0.184899</td>\n",
       "      <td>0.333333</td>\n",
       "      <td>0.950000</td>\n",
       "    </tr>\n",
       "    <tr>\n",
       "      <th>7</th>\n",
       "      <td>ocds-bulbcf-2051-0906-LPU17</td>\n",
       "      <td>2017</td>\n",
       "      <td>complete</td>\n",
       "      <td>open</td>\n",
       "      <td>2000000.00</td>\n",
       "      <td>13.0</td>\n",
       "      <td>1.00</td>\n",
       "      <td>0.638140</td>\n",
       "      <td>2.000000</td>\n",
       "      <td>1.000000</td>\n",
       "    </tr>\n",
       "    <tr>\n",
       "      <th>8</th>\n",
       "      <td>ocds-bulbcf-2051-1006-LPU17</td>\n",
       "      <td>2017</td>\n",
       "      <td>complete</td>\n",
       "      <td>open</td>\n",
       "      <td>4000000.00</td>\n",
       "      <td>11.0</td>\n",
       "      <td>1.00</td>\n",
       "      <td>2.408613</td>\n",
       "      <td>1.333333</td>\n",
       "      <td>1.000000</td>\n",
       "    </tr>\n",
       "    <tr>\n",
       "      <th>9</th>\n",
       "      <td>ocds-bulbcf-2051-1098-LPU17</td>\n",
       "      <td>2017</td>\n",
       "      <td>complete</td>\n",
       "      <td>open</td>\n",
       "      <td>3000000.00</td>\n",
       "      <td>9.0</td>\n",
       "      <td>1.00</td>\n",
       "      <td>1.523376</td>\n",
       "      <td>0.666667</td>\n",
       "      <td>1.000000</td>\n",
       "    </tr>\n",
       "    <tr>\n",
       "      <th>10</th>\n",
       "      <td>ocds-bulbcf-2051-1296-LPU17</td>\n",
       "      <td>2017</td>\n",
       "      <td>complete</td>\n",
       "      <td>open</td>\n",
       "      <td>1500000.00</td>\n",
       "      <td>17.0</td>\n",
       "      <td>2.00</td>\n",
       "      <td>0.195522</td>\n",
       "      <td>3.333333</td>\n",
       "      <td>0.995455</td>\n",
       "    </tr>\n",
       "    <tr>\n",
       "      <th>11</th>\n",
       "      <td>ocds-bulbcf-2051-1516-LPU17</td>\n",
       "      <td>2017</td>\n",
       "      <td>complete</td>\n",
       "      <td>open</td>\n",
       "      <td>2900000.00</td>\n",
       "      <td>3.0</td>\n",
       "      <td>1.00</td>\n",
       "      <td>1.434853</td>\n",
       "      <td>1.333333</td>\n",
       "      <td>1.000000</td>\n",
       "    </tr>\n",
       "    <tr>\n",
       "      <th>12</th>\n",
       "      <td>ocds-bulbcf-2175-0013-LPU17</td>\n",
       "      <td>2017</td>\n",
       "      <td>complete</td>\n",
       "      <td>open</td>\n",
       "      <td>1900000.00</td>\n",
       "      <td>6.0</td>\n",
       "      <td>1.00</td>\n",
       "      <td>0.549617</td>\n",
       "      <td>0.333333</td>\n",
       "      <td>1.000000</td>\n",
       "    </tr>\n",
       "    <tr>\n",
       "      <th>13</th>\n",
       "      <td>ocds-bulbcf-2175-0017-LPU17</td>\n",
       "      <td>2017</td>\n",
       "      <td>complete</td>\n",
       "      <td>open</td>\n",
       "      <td>6000000.00</td>\n",
       "      <td>6.0</td>\n",
       "      <td>1.00</td>\n",
       "      <td>4.179085</td>\n",
       "      <td>0.333333</td>\n",
       "      <td>1.000000</td>\n",
       "    </tr>\n",
       "    <tr>\n",
       "      <th>14</th>\n",
       "      <td>ocds-bulbcf-2175-0022-LPU17</td>\n",
       "      <td>2017</td>\n",
       "      <td>complete</td>\n",
       "      <td>open</td>\n",
       "      <td>1445000.00</td>\n",
       "      <td>6.0</td>\n",
       "      <td>8.00</td>\n",
       "      <td>0.146834</td>\n",
       "      <td>0.333333</td>\n",
       "      <td>0.968182</td>\n",
       "    </tr>\n",
       "    <tr>\n",
       "      <th>15</th>\n",
       "      <td>ocds-bulbcf-2175-0029-LPU17</td>\n",
       "      <td>2017</td>\n",
       "      <td>complete</td>\n",
       "      <td>open</td>\n",
       "      <td>1600000.00</td>\n",
       "      <td>6.0</td>\n",
       "      <td>1.00</td>\n",
       "      <td>0.284046</td>\n",
       "      <td>0.333333</td>\n",
       "      <td>1.000000</td>\n",
       "    </tr>\n",
       "    <tr>\n",
       "      <th>16</th>\n",
       "      <td>ocds-bulbcf-2175-0981-LPU17</td>\n",
       "      <td>2017</td>\n",
       "      <td>complete</td>\n",
       "      <td>open</td>\n",
       "      <td>28000000.00</td>\n",
       "      <td>15.0</td>\n",
       "      <td>1.00</td>\n",
       "      <td>23.654282</td>\n",
       "      <td>2.666667</td>\n",
       "      <td>1.000000</td>\n",
       "    </tr>\n",
       "    <tr>\n",
       "      <th>17</th>\n",
       "      <td>ocds-bulbcf-2175-1053-LPU17</td>\n",
       "      <td>2017</td>\n",
       "      <td>complete</td>\n",
       "      <td>open</td>\n",
       "      <td>13339978.81</td>\n",
       "      <td>4.0</td>\n",
       "      <td>1.00</td>\n",
       "      <td>10.676700</td>\n",
       "      <td>1.000000</td>\n",
       "      <td>1.000000</td>\n",
       "    </tr>\n",
       "    <tr>\n",
       "      <th>18</th>\n",
       "      <td>ocds-bulbcf-2175-1119-LPU17</td>\n",
       "      <td>2017</td>\n",
       "      <td>complete</td>\n",
       "      <td>open</td>\n",
       "      <td>19500000.00</td>\n",
       "      <td>15.0</td>\n",
       "      <td>1.00</td>\n",
       "      <td>16.129774</td>\n",
       "      <td>2.666667</td>\n",
       "      <td>1.000000</td>\n",
       "    </tr>\n",
       "    <tr>\n",
       "      <th>19</th>\n",
       "      <td>ocds-bulbcf-2175-1157-LPU17</td>\n",
       "      <td>2017</td>\n",
       "      <td>complete</td>\n",
       "      <td>open</td>\n",
       "      <td>2747250.00</td>\n",
       "      <td>4.0</td>\n",
       "      <td>515.00</td>\n",
       "      <td>1.299633</td>\n",
       "      <td>1.000000</td>\n",
       "      <td>1.336364</td>\n",
       "    </tr>\n",
       "    <tr>\n",
       "      <th>20</th>\n",
       "      <td>ocds-bulbcf-2175-1326-LPU17</td>\n",
       "      <td>2017</td>\n",
       "      <td>complete</td>\n",
       "      <td>open</td>\n",
       "      <td>87000000.00</td>\n",
       "      <td>17.0</td>\n",
       "      <td>1.00</td>\n",
       "      <td>75.883218</td>\n",
       "      <td>3.333333</td>\n",
       "      <td>1.000000</td>\n",
       "    </tr>\n",
       "    <tr>\n",
       "      <th>21</th>\n",
       "      <td>ocds-bulbcf-2180-0267-LPU17</td>\n",
       "      <td>2017</td>\n",
       "      <td>complete</td>\n",
       "      <td>open</td>\n",
       "      <td>8500000.00</td>\n",
       "      <td>4.0</td>\n",
       "      <td>1.00</td>\n",
       "      <td>6.392176</td>\n",
       "      <td>1.000000</td>\n",
       "      <td>1.000000</td>\n",
       "    </tr>\n",
       "    <tr>\n",
       "      <th>22</th>\n",
       "      <td>ocds-bulbcf-2180-1140-LPU17</td>\n",
       "      <td>2017</td>\n",
       "      <td>complete</td>\n",
       "      <td>open</td>\n",
       "      <td>2100000.00</td>\n",
       "      <td>4.0</td>\n",
       "      <td>1.00</td>\n",
       "      <td>0.726664</td>\n",
       "      <td>1.000000</td>\n",
       "      <td>1.000000</td>\n",
       "    </tr>\n",
       "    <tr>\n",
       "      <th>23</th>\n",
       "      <td>ocds-bulbcf-282-0221-LPU17</td>\n",
       "      <td>2017</td>\n",
       "      <td>complete</td>\n",
       "      <td>open</td>\n",
       "      <td>1800000.00</td>\n",
       "      <td>2.0</td>\n",
       "      <td>12.00</td>\n",
       "      <td>0.461093</td>\n",
       "      <td>1.666667</td>\n",
       "      <td>0.950000</td>\n",
       "    </tr>\n",
       "    <tr>\n",
       "      <th>24</th>\n",
       "      <td>ocds-bulbcf-282-0807-LPU17</td>\n",
       "      <td>2017</td>\n",
       "      <td>cancelled</td>\n",
       "      <td>open</td>\n",
       "      <td>6480000.00</td>\n",
       "      <td>5.0</td>\n",
       "      <td>24.00</td>\n",
       "      <td>4.603998</td>\n",
       "      <td>0.666667</td>\n",
       "      <td>0.895455</td>\n",
       "    </tr>\n",
       "    <tr>\n",
       "      <th>25</th>\n",
       "      <td>ocds-bulbcf-2900-0037-LPU17</td>\n",
       "      <td>2017</td>\n",
       "      <td>complete</td>\n",
       "      <td>open</td>\n",
       "      <td>28800000.00</td>\n",
       "      <td>22.0</td>\n",
       "      <td>24.00</td>\n",
       "      <td>24.362471</td>\n",
       "      <td>5.000000</td>\n",
       "      <td>0.895455</td>\n",
       "    </tr>\n",
       "    <tr>\n",
       "      <th>26</th>\n",
       "      <td>ocds-bulbcf-2900-0093-LPU17</td>\n",
       "      <td>2017</td>\n",
       "      <td>complete</td>\n",
       "      <td>open</td>\n",
       "      <td>6500000.00</td>\n",
       "      <td>6.0</td>\n",
       "      <td>1.00</td>\n",
       "      <td>4.621703</td>\n",
       "      <td>0.333333</td>\n",
       "      <td>1.000000</td>\n",
       "    </tr>\n",
       "    <tr>\n",
       "      <th>27</th>\n",
       "      <td>ocds-bulbcf-2900-0152-LPU17</td>\n",
       "      <td>2017</td>\n",
       "      <td>complete</td>\n",
       "      <td>open</td>\n",
       "      <td>14519040.00</td>\n",
       "      <td>11.0</td>\n",
       "      <td>48.00</td>\n",
       "      <td>11.720448</td>\n",
       "      <td>1.333333</td>\n",
       "      <td>0.786364</td>\n",
       "    </tr>\n",
       "    <tr>\n",
       "      <th>28</th>\n",
       "      <td>ocds-bulbcf-2900-0155-LPU17</td>\n",
       "      <td>2017</td>\n",
       "      <td>complete</td>\n",
       "      <td>open</td>\n",
       "      <td>38500000.00</td>\n",
       "      <td>7.0</td>\n",
       "      <td>3500.00</td>\n",
       "      <td>32.949262</td>\n",
       "      <td>0.000000</td>\n",
       "      <td>14.904545</td>\n",
       "    </tr>\n",
       "    <tr>\n",
       "      <th>29</th>\n",
       "      <td>ocds-bulbcf-2900-0165-LPU17</td>\n",
       "      <td>2017</td>\n",
       "      <td>complete</td>\n",
       "      <td>open</td>\n",
       "      <td>80158190.00</td>\n",
       "      <td>6.0</td>\n",
       "      <td>49496.00</td>\n",
       "      <td>69.826600</td>\n",
       "      <td>0.333333</td>\n",
       "      <td>223.977273</td>\n",
       "    </tr>\n",
       "    <tr>\n",
       "      <th>...</th>\n",
       "      <td>...</td>\n",
       "      <td>...</td>\n",
       "      <td>...</td>\n",
       "      <td>...</td>\n",
       "      <td>...</td>\n",
       "      <td>...</td>\n",
       "      <td>...</td>\n",
       "      <td>...</td>\n",
       "      <td>...</td>\n",
       "      <td>...</td>\n",
       "    </tr>\n",
       "    <tr>\n",
       "      <th>482</th>\n",
       "      <td>ocds-bulbcf-8933-1252-LPU17</td>\n",
       "      <td>2017</td>\n",
       "      <td>complete</td>\n",
       "      <td>open</td>\n",
       "      <td>4149900.00</td>\n",
       "      <td>4.0</td>\n",
       "      <td>27000.00</td>\n",
       "      <td>2.541310</td>\n",
       "      <td>1.000000</td>\n",
       "      <td>121.722727</td>\n",
       "    </tr>\n",
       "    <tr>\n",
       "      <th>483</th>\n",
       "      <td>ocds-bulbcf-8933-1253-LPU17</td>\n",
       "      <td>2017</td>\n",
       "      <td>complete</td>\n",
       "      <td>open</td>\n",
       "      <td>2100000.00</td>\n",
       "      <td>8.0</td>\n",
       "      <td>1.00</td>\n",
       "      <td>0.726664</td>\n",
       "      <td>0.333333</td>\n",
       "      <td>1.000000</td>\n",
       "    </tr>\n",
       "    <tr>\n",
       "      <th>484</th>\n",
       "      <td>ocds-bulbcf-8933-1362-LPU17</td>\n",
       "      <td>2017</td>\n",
       "      <td>cancelled</td>\n",
       "      <td>open</td>\n",
       "      <td>2500000.00</td>\n",
       "      <td>8.0</td>\n",
       "      <td>15625.00</td>\n",
       "      <td>1.080758</td>\n",
       "      <td>0.333333</td>\n",
       "      <td>70.018182</td>\n",
       "    </tr>\n",
       "    <tr>\n",
       "      <th>485</th>\n",
       "      <td>ocds-bulbcf-8933-1433-LPU17</td>\n",
       "      <td>2017</td>\n",
       "      <td>complete</td>\n",
       "      <td>open</td>\n",
       "      <td>4483500.00</td>\n",
       "      <td>4.0</td>\n",
       "      <td>32500.00</td>\n",
       "      <td>2.836624</td>\n",
       "      <td>1.000000</td>\n",
       "      <td>146.722727</td>\n",
       "    </tr>\n",
       "    <tr>\n",
       "      <th>486</th>\n",
       "      <td>ocds-bulbcf-8933-1498-LPU16</td>\n",
       "      <td>2017</td>\n",
       "      <td>complete</td>\n",
       "      <td>open</td>\n",
       "      <td>1360000.00</td>\n",
       "      <td>7.0</td>\n",
       "      <td>4.00</td>\n",
       "      <td>0.071589</td>\n",
       "      <td>0.000000</td>\n",
       "      <td>0.986364</td>\n",
       "    </tr>\n",
       "    <tr>\n",
       "      <th>487</th>\n",
       "      <td>ocds-bulbcf-9268-1013-LPU17</td>\n",
       "      <td>2017</td>\n",
       "      <td>complete</td>\n",
       "      <td>open</td>\n",
       "      <td>2500000.00</td>\n",
       "      <td>3.0</td>\n",
       "      <td>1.00</td>\n",
       "      <td>1.080758</td>\n",
       "      <td>1.333333</td>\n",
       "      <td>1.000000</td>\n",
       "    </tr>\n",
       "    <tr>\n",
       "      <th>488</th>\n",
       "      <td>ocds-bulbcf-9268-1376-LPU17</td>\n",
       "      <td>2017</td>\n",
       "      <td>complete</td>\n",
       "      <td>open</td>\n",
       "      <td>3900000.00</td>\n",
       "      <td>5.0</td>\n",
       "      <td>12.00</td>\n",
       "      <td>2.320089</td>\n",
       "      <td>0.666667</td>\n",
       "      <td>0.950000</td>\n",
       "    </tr>\n",
       "    <tr>\n",
       "      <th>489</th>\n",
       "      <td>ocds-bulbcf-9510-0271-LPU17</td>\n",
       "      <td>2017</td>\n",
       "      <td>complete</td>\n",
       "      <td>open</td>\n",
       "      <td>4669930.00</td>\n",
       "      <td>11.0</td>\n",
       "      <td>40.00</td>\n",
       "      <td>3.001659</td>\n",
       "      <td>1.333333</td>\n",
       "      <td>0.822727</td>\n",
       "    </tr>\n",
       "    <tr>\n",
       "      <th>490</th>\n",
       "      <td>ocds-bulbcf-9510-0917-LPU17</td>\n",
       "      <td>2017</td>\n",
       "      <td>complete</td>\n",
       "      <td>open</td>\n",
       "      <td>2814000.00</td>\n",
       "      <td>19.0</td>\n",
       "      <td>1.00</td>\n",
       "      <td>1.358722</td>\n",
       "      <td>4.000000</td>\n",
       "      <td>1.000000</td>\n",
       "    </tr>\n",
       "    <tr>\n",
       "      <th>491</th>\n",
       "      <td>ocds-bulbcf-9510-0941-LPU17</td>\n",
       "      <td>2017</td>\n",
       "      <td>complete</td>\n",
       "      <td>open</td>\n",
       "      <td>3000000.00</td>\n",
       "      <td>12.0</td>\n",
       "      <td>244.00</td>\n",
       "      <td>1.523376</td>\n",
       "      <td>1.666667</td>\n",
       "      <td>0.104545</td>\n",
       "    </tr>\n",
       "    <tr>\n",
       "      <th>492</th>\n",
       "      <td>ocds-bulbcf-9510-0942-LPU17</td>\n",
       "      <td>2017</td>\n",
       "      <td>complete</td>\n",
       "      <td>open</td>\n",
       "      <td>2890570.81</td>\n",
       "      <td>13.0</td>\n",
       "      <td>1.00</td>\n",
       "      <td>1.426506</td>\n",
       "      <td>2.000000</td>\n",
       "      <td>1.000000</td>\n",
       "    </tr>\n",
       "    <tr>\n",
       "      <th>493</th>\n",
       "      <td>ocds-bulbcf-9510-0943-LPU17</td>\n",
       "      <td>2017</td>\n",
       "      <td>complete</td>\n",
       "      <td>open</td>\n",
       "      <td>1853000.00</td>\n",
       "      <td>13.0</td>\n",
       "      <td>1.00</td>\n",
       "      <td>0.508011</td>\n",
       "      <td>2.000000</td>\n",
       "      <td>1.000000</td>\n",
       "    </tr>\n",
       "    <tr>\n",
       "      <th>494</th>\n",
       "      <td>ocds-bulbcf-9510-1003-LPU17</td>\n",
       "      <td>2017</td>\n",
       "      <td>complete</td>\n",
       "      <td>open</td>\n",
       "      <td>2872614.00</td>\n",
       "      <td>13.0</td>\n",
       "      <td>1.00</td>\n",
       "      <td>1.410610</td>\n",
       "      <td>2.000000</td>\n",
       "      <td>1.000000</td>\n",
       "    </tr>\n",
       "    <tr>\n",
       "      <th>495</th>\n",
       "      <td>ocds-bulbcf-9510-1104-LPU17</td>\n",
       "      <td>2017</td>\n",
       "      <td>complete</td>\n",
       "      <td>open</td>\n",
       "      <td>1544790.00</td>\n",
       "      <td>8.0</td>\n",
       "      <td>2.00</td>\n",
       "      <td>0.235172</td>\n",
       "      <td>0.333333</td>\n",
       "      <td>0.995455</td>\n",
       "    </tr>\n",
       "    <tr>\n",
       "      <th>496</th>\n",
       "      <td>ocds-bulbcf-9510-1179-LPU17</td>\n",
       "      <td>2017</td>\n",
       "      <td>complete</td>\n",
       "      <td>open</td>\n",
       "      <td>6000000.00</td>\n",
       "      <td>6.0</td>\n",
       "      <td>12.00</td>\n",
       "      <td>4.179085</td>\n",
       "      <td>0.333333</td>\n",
       "      <td>0.950000</td>\n",
       "    </tr>\n",
       "    <tr>\n",
       "      <th>497</th>\n",
       "      <td>ocds-bulbcf-9510-1319-LPU17</td>\n",
       "      <td>2017</td>\n",
       "      <td>complete</td>\n",
       "      <td>open</td>\n",
       "      <td>3299997.00</td>\n",
       "      <td>6.0</td>\n",
       "      <td>15.00</td>\n",
       "      <td>1.788945</td>\n",
       "      <td>0.333333</td>\n",
       "      <td>0.936364</td>\n",
       "    </tr>\n",
       "    <tr>\n",
       "      <th>498</th>\n",
       "      <td>ocds-bulbcf-9510-1321-LPU17</td>\n",
       "      <td>2017</td>\n",
       "      <td>complete</td>\n",
       "      <td>open</td>\n",
       "      <td>2853390.50</td>\n",
       "      <td>8.0</td>\n",
       "      <td>1.00</td>\n",
       "      <td>1.393592</td>\n",
       "      <td>0.333333</td>\n",
       "      <td>1.000000</td>\n",
       "    </tr>\n",
       "    <tr>\n",
       "      <th>499</th>\n",
       "      <td>ocds-bulbcf-9510-1378-LPU17</td>\n",
       "      <td>2017</td>\n",
       "      <td>complete</td>\n",
       "      <td>open</td>\n",
       "      <td>2120439.99</td>\n",
       "      <td>14.0</td>\n",
       "      <td>3.00</td>\n",
       "      <td>0.744758</td>\n",
       "      <td>2.333333</td>\n",
       "      <td>0.990909</td>\n",
       "    </tr>\n",
       "    <tr>\n",
       "      <th>500</th>\n",
       "      <td>ocds-bulbcf-9510-1392-LPU17</td>\n",
       "      <td>2017</td>\n",
       "      <td>complete</td>\n",
       "      <td>open</td>\n",
       "      <td>3113000.00</td>\n",
       "      <td>10.0</td>\n",
       "      <td>1.00</td>\n",
       "      <td>1.623408</td>\n",
       "      <td>1.000000</td>\n",
       "      <td>1.000000</td>\n",
       "    </tr>\n",
       "    <tr>\n",
       "      <th>501</th>\n",
       "      <td>ocds-bulbcf-9510-1474-LPU17</td>\n",
       "      <td>2017</td>\n",
       "      <td>cancelled</td>\n",
       "      <td>open</td>\n",
       "      <td>3556031.00</td>\n",
       "      <td>7.0</td>\n",
       "      <td>71.00</td>\n",
       "      <td>2.015595</td>\n",
       "      <td>0.000000</td>\n",
       "      <td>0.681818</td>\n",
       "    </tr>\n",
       "    <tr>\n",
       "      <th>502</th>\n",
       "      <td>ocds-bulbcf-9510-1551-LPU17</td>\n",
       "      <td>2017</td>\n",
       "      <td>cancelled</td>\n",
       "      <td>open</td>\n",
       "      <td>12679200.00</td>\n",
       "      <td>5.0</td>\n",
       "      <td>49.00</td>\n",
       "      <td>10.091755</td>\n",
       "      <td>0.666667</td>\n",
       "      <td>0.781818</td>\n",
       "    </tr>\n",
       "    <tr>\n",
       "      <th>503</th>\n",
       "      <td>ocds-bulbcf-9510-1772-LPU17</td>\n",
       "      <td>2017</td>\n",
       "      <td>complete</td>\n",
       "      <td>open</td>\n",
       "      <td>12679200.00</td>\n",
       "      <td>7.0</td>\n",
       "      <td>49.00</td>\n",
       "      <td>10.091755</td>\n",
       "      <td>0.000000</td>\n",
       "      <td>0.781818</td>\n",
       "    </tr>\n",
       "    <tr>\n",
       "      <th>504</th>\n",
       "      <td>ocds-bulbcf-9603-1061-LPU17</td>\n",
       "      <td>2017</td>\n",
       "      <td>cancelled</td>\n",
       "      <td>open</td>\n",
       "      <td>66438665.04</td>\n",
       "      <td>6.0</td>\n",
       "      <td>120.00</td>\n",
       "      <td>57.681580</td>\n",
       "      <td>0.333333</td>\n",
       "      <td>0.459091</td>\n",
       "    </tr>\n",
       "    <tr>\n",
       "      <th>505</th>\n",
       "      <td>ocds-bulbcf-9611-0923-LPU17</td>\n",
       "      <td>2017</td>\n",
       "      <td>complete</td>\n",
       "      <td>open</td>\n",
       "      <td>14850000.00</td>\n",
       "      <td>6.0</td>\n",
       "      <td>1.00</td>\n",
       "      <td>12.013425</td>\n",
       "      <td>0.333333</td>\n",
       "      <td>1.000000</td>\n",
       "    </tr>\n",
       "    <tr>\n",
       "      <th>506</th>\n",
       "      <td>ocds-bulbcf-9611-1124-LPU17</td>\n",
       "      <td>2017</td>\n",
       "      <td>complete</td>\n",
       "      <td>open</td>\n",
       "      <td>2200000.01</td>\n",
       "      <td>4.0</td>\n",
       "      <td>1261.67</td>\n",
       "      <td>0.815187</td>\n",
       "      <td>1.000000</td>\n",
       "      <td>4.730318</td>\n",
       "    </tr>\n",
       "    <tr>\n",
       "      <th>507</th>\n",
       "      <td>ocds-bulbcf-9611-1505-LPU17</td>\n",
       "      <td>2017</td>\n",
       "      <td>complete</td>\n",
       "      <td>open</td>\n",
       "      <td>1700000.00</td>\n",
       "      <td>6.0</td>\n",
       "      <td>1.00</td>\n",
       "      <td>0.372569</td>\n",
       "      <td>0.333333</td>\n",
       "      <td>1.000000</td>\n",
       "    </tr>\n",
       "    <tr>\n",
       "      <th>508</th>\n",
       "      <td>ocds-bulbcf-9611-1574-LPU16</td>\n",
       "      <td>2017</td>\n",
       "      <td>complete</td>\n",
       "      <td>open</td>\n",
       "      <td>2750000.04</td>\n",
       "      <td>14.0</td>\n",
       "      <td>12.00</td>\n",
       "      <td>1.302067</td>\n",
       "      <td>2.333333</td>\n",
       "      <td>0.950000</td>\n",
       "    </tr>\n",
       "    <tr>\n",
       "      <th>509</th>\n",
       "      <td>ocds-bulbcf-9611-1680-LPU17</td>\n",
       "      <td>2017</td>\n",
       "      <td>cancelled</td>\n",
       "      <td>open</td>\n",
       "      <td>3810000.00</td>\n",
       "      <td>5.0</td>\n",
       "      <td>1.00</td>\n",
       "      <td>2.240418</td>\n",
       "      <td>0.666667</td>\n",
       "      <td>1.000000</td>\n",
       "    </tr>\n",
       "    <tr>\n",
       "      <th>510</th>\n",
       "      <td>ocds-bulbcf-9611-1683-LPU17</td>\n",
       "      <td>2017</td>\n",
       "      <td>cancelled</td>\n",
       "      <td>open</td>\n",
       "      <td>2000000.00</td>\n",
       "      <td>6.0</td>\n",
       "      <td>1.00</td>\n",
       "      <td>0.638140</td>\n",
       "      <td>0.333333</td>\n",
       "      <td>1.000000</td>\n",
       "    </tr>\n",
       "    <tr>\n",
       "      <th>511</th>\n",
       "      <td>ocds-bulbcf-9982-1587-LPU17</td>\n",
       "      <td>2017</td>\n",
       "      <td>complete</td>\n",
       "      <td>open</td>\n",
       "      <td>5900000.00</td>\n",
       "      <td>3.0</td>\n",
       "      <td>1.00</td>\n",
       "      <td>4.090561</td>\n",
       "      <td>1.333333</td>\n",
       "      <td>1.000000</td>\n",
       "    </tr>\n",
       "  </tbody>\n",
       "</table>\n",
       "<p>512 rows × 10 columns</p>\n",
       "</div>"
      ],
      "text/plain": [
       "                            ocid  year tender/status tender/procurementMethod  \\\n",
       "0     ocds-bulbcf-101-0779-LPU17  2017      complete                     open   \n",
       "1     ocds-bulbcf-101-1181-LPU17  2017      complete                     open   \n",
       "2     ocds-bulbcf-101-1394-LPU17  2017     cancelled                     open   \n",
       "3     ocds-bulbcf-101-1466-LPU17  2017      complete                     open   \n",
       "4     ocds-bulbcf-101-1583-LPU17  2017      complete                     open   \n",
       "5     ocds-bulbcf-101-1612-LPU17  2017      complete                     open   \n",
       "6     ocds-bulbcf-146-0075-LPU17  2017      complete                     open   \n",
       "7    ocds-bulbcf-2051-0906-LPU17  2017      complete                     open   \n",
       "8    ocds-bulbcf-2051-1006-LPU17  2017      complete                     open   \n",
       "9    ocds-bulbcf-2051-1098-LPU17  2017      complete                     open   \n",
       "10   ocds-bulbcf-2051-1296-LPU17  2017      complete                     open   \n",
       "11   ocds-bulbcf-2051-1516-LPU17  2017      complete                     open   \n",
       "12   ocds-bulbcf-2175-0013-LPU17  2017      complete                     open   \n",
       "13   ocds-bulbcf-2175-0017-LPU17  2017      complete                     open   \n",
       "14   ocds-bulbcf-2175-0022-LPU17  2017      complete                     open   \n",
       "15   ocds-bulbcf-2175-0029-LPU17  2017      complete                     open   \n",
       "16   ocds-bulbcf-2175-0981-LPU17  2017      complete                     open   \n",
       "17   ocds-bulbcf-2175-1053-LPU17  2017      complete                     open   \n",
       "18   ocds-bulbcf-2175-1119-LPU17  2017      complete                     open   \n",
       "19   ocds-bulbcf-2175-1157-LPU17  2017      complete                     open   \n",
       "20   ocds-bulbcf-2175-1326-LPU17  2017      complete                     open   \n",
       "21   ocds-bulbcf-2180-0267-LPU17  2017      complete                     open   \n",
       "22   ocds-bulbcf-2180-1140-LPU17  2017      complete                     open   \n",
       "23    ocds-bulbcf-282-0221-LPU17  2017      complete                     open   \n",
       "24    ocds-bulbcf-282-0807-LPU17  2017     cancelled                     open   \n",
       "25   ocds-bulbcf-2900-0037-LPU17  2017      complete                     open   \n",
       "26   ocds-bulbcf-2900-0093-LPU17  2017      complete                     open   \n",
       "27   ocds-bulbcf-2900-0152-LPU17  2017      complete                     open   \n",
       "28   ocds-bulbcf-2900-0155-LPU17  2017      complete                     open   \n",
       "29   ocds-bulbcf-2900-0165-LPU17  2017      complete                     open   \n",
       "..                           ...   ...           ...                      ...   \n",
       "482  ocds-bulbcf-8933-1252-LPU17  2017      complete                     open   \n",
       "483  ocds-bulbcf-8933-1253-LPU17  2017      complete                     open   \n",
       "484  ocds-bulbcf-8933-1362-LPU17  2017     cancelled                     open   \n",
       "485  ocds-bulbcf-8933-1433-LPU17  2017      complete                     open   \n",
       "486  ocds-bulbcf-8933-1498-LPU16  2017      complete                     open   \n",
       "487  ocds-bulbcf-9268-1013-LPU17  2017      complete                     open   \n",
       "488  ocds-bulbcf-9268-1376-LPU17  2017      complete                     open   \n",
       "489  ocds-bulbcf-9510-0271-LPU17  2017      complete                     open   \n",
       "490  ocds-bulbcf-9510-0917-LPU17  2017      complete                     open   \n",
       "491  ocds-bulbcf-9510-0941-LPU17  2017      complete                     open   \n",
       "492  ocds-bulbcf-9510-0942-LPU17  2017      complete                     open   \n",
       "493  ocds-bulbcf-9510-0943-LPU17  2017      complete                     open   \n",
       "494  ocds-bulbcf-9510-1003-LPU17  2017      complete                     open   \n",
       "495  ocds-bulbcf-9510-1104-LPU17  2017      complete                     open   \n",
       "496  ocds-bulbcf-9510-1179-LPU17  2017      complete                     open   \n",
       "497  ocds-bulbcf-9510-1319-LPU17  2017      complete                     open   \n",
       "498  ocds-bulbcf-9510-1321-LPU17  2017      complete                     open   \n",
       "499  ocds-bulbcf-9510-1378-LPU17  2017      complete                     open   \n",
       "500  ocds-bulbcf-9510-1392-LPU17  2017      complete                     open   \n",
       "501  ocds-bulbcf-9510-1474-LPU17  2017     cancelled                     open   \n",
       "502  ocds-bulbcf-9510-1551-LPU17  2017     cancelled                     open   \n",
       "503  ocds-bulbcf-9510-1772-LPU17  2017      complete                     open   \n",
       "504  ocds-bulbcf-9603-1061-LPU17  2017     cancelled                     open   \n",
       "505  ocds-bulbcf-9611-0923-LPU17  2017      complete                     open   \n",
       "506  ocds-bulbcf-9611-1124-LPU17  2017      complete                     open   \n",
       "507  ocds-bulbcf-9611-1505-LPU17  2017      complete                     open   \n",
       "508  ocds-bulbcf-9611-1574-LPU16  2017      complete                     open   \n",
       "509  ocds-bulbcf-9611-1680-LPU17  2017     cancelled                     open   \n",
       "510  ocds-bulbcf-9611-1683-LPU17  2017     cancelled                     open   \n",
       "511  ocds-bulbcf-9982-1587-LPU17  2017      complete                     open   \n",
       "\n",
       "     tender/value/amount  tender/tenderPeriod/durationInDays  \\\n",
       "0             3900000.00                                22.0   \n",
       "1            16288800.00                                 9.0   \n",
       "2             2200000.00                                10.0   \n",
       "3             7500000.00                                 7.0   \n",
       "4            30000000.00                                 9.0   \n",
       "5            43000000.00                                14.0   \n",
       "6             1488000.00                                 8.0   \n",
       "7             2000000.00                                13.0   \n",
       "8             4000000.00                                11.0   \n",
       "9             3000000.00                                 9.0   \n",
       "10            1500000.00                                17.0   \n",
       "11            2900000.00                                 3.0   \n",
       "12            1900000.00                                 6.0   \n",
       "13            6000000.00                                 6.0   \n",
       "14            1445000.00                                 6.0   \n",
       "15            1600000.00                                 6.0   \n",
       "16           28000000.00                                15.0   \n",
       "17           13339978.81                                 4.0   \n",
       "18           19500000.00                                15.0   \n",
       "19            2747250.00                                 4.0   \n",
       "20           87000000.00                                17.0   \n",
       "21            8500000.00                                 4.0   \n",
       "22            2100000.00                                 4.0   \n",
       "23            1800000.00                                 2.0   \n",
       "24            6480000.00                                 5.0   \n",
       "25           28800000.00                                22.0   \n",
       "26            6500000.00                                 6.0   \n",
       "27           14519040.00                                11.0   \n",
       "28           38500000.00                                 7.0   \n",
       "29           80158190.00                                 6.0   \n",
       "..                   ...                                 ...   \n",
       "482           4149900.00                                 4.0   \n",
       "483           2100000.00                                 8.0   \n",
       "484           2500000.00                                 8.0   \n",
       "485           4483500.00                                 4.0   \n",
       "486           1360000.00                                 7.0   \n",
       "487           2500000.00                                 3.0   \n",
       "488           3900000.00                                 5.0   \n",
       "489           4669930.00                                11.0   \n",
       "490           2814000.00                                19.0   \n",
       "491           3000000.00                                12.0   \n",
       "492           2890570.81                                13.0   \n",
       "493           1853000.00                                13.0   \n",
       "494           2872614.00                                13.0   \n",
       "495           1544790.00                                 8.0   \n",
       "496           6000000.00                                 6.0   \n",
       "497           3299997.00                                 6.0   \n",
       "498           2853390.50                                 8.0   \n",
       "499           2120439.99                                14.0   \n",
       "500           3113000.00                                10.0   \n",
       "501           3556031.00                                 7.0   \n",
       "502          12679200.00                                 5.0   \n",
       "503          12679200.00                                 7.0   \n",
       "504          66438665.04                                 6.0   \n",
       "505          14850000.00                                 6.0   \n",
       "506           2200000.01                                 4.0   \n",
       "507           1700000.00                                 6.0   \n",
       "508           2750000.04                                14.0   \n",
       "509           3810000.00                                 5.0   \n",
       "510           2000000.00                                 6.0   \n",
       "511           5900000.00                                 3.0   \n",
       "\n",
       "     tender/items/0/quantity  outliers_value_amount  outliers_duration  \\\n",
       "0                       1.00               2.320089           5.000000   \n",
       "1                     360.00              13.287103           0.666667   \n",
       "2                       1.00               0.815187           1.000000   \n",
       "3                       1.00               5.506939           0.000000   \n",
       "4                       1.00              25.424754           0.666667   \n",
       "5                       1.00              36.932825           2.333333   \n",
       "6                      12.00               0.184899           0.333333   \n",
       "7                       1.00               0.638140           2.000000   \n",
       "8                       1.00               2.408613           1.333333   \n",
       "9                       1.00               1.523376           0.666667   \n",
       "10                      2.00               0.195522           3.333333   \n",
       "11                      1.00               1.434853           1.333333   \n",
       "12                      1.00               0.549617           0.333333   \n",
       "13                      1.00               4.179085           0.333333   \n",
       "14                      8.00               0.146834           0.333333   \n",
       "15                      1.00               0.284046           0.333333   \n",
       "16                      1.00              23.654282           2.666667   \n",
       "17                      1.00              10.676700           1.000000   \n",
       "18                      1.00              16.129774           2.666667   \n",
       "19                    515.00               1.299633           1.000000   \n",
       "20                      1.00              75.883218           3.333333   \n",
       "21                      1.00               6.392176           1.000000   \n",
       "22                      1.00               0.726664           1.000000   \n",
       "23                     12.00               0.461093           1.666667   \n",
       "24                     24.00               4.603998           0.666667   \n",
       "25                     24.00              24.362471           5.000000   \n",
       "26                      1.00               4.621703           0.333333   \n",
       "27                     48.00              11.720448           1.333333   \n",
       "28                   3500.00              32.949262           0.000000   \n",
       "29                  49496.00              69.826600           0.333333   \n",
       "..                       ...                    ...                ...   \n",
       "482                 27000.00               2.541310           1.000000   \n",
       "483                     1.00               0.726664           0.333333   \n",
       "484                 15625.00               1.080758           0.333333   \n",
       "485                 32500.00               2.836624           1.000000   \n",
       "486                     4.00               0.071589           0.000000   \n",
       "487                     1.00               1.080758           1.333333   \n",
       "488                    12.00               2.320089           0.666667   \n",
       "489                    40.00               3.001659           1.333333   \n",
       "490                     1.00               1.358722           4.000000   \n",
       "491                   244.00               1.523376           1.666667   \n",
       "492                     1.00               1.426506           2.000000   \n",
       "493                     1.00               0.508011           2.000000   \n",
       "494                     1.00               1.410610           2.000000   \n",
       "495                     2.00               0.235172           0.333333   \n",
       "496                    12.00               4.179085           0.333333   \n",
       "497                    15.00               1.788945           0.333333   \n",
       "498                     1.00               1.393592           0.333333   \n",
       "499                     3.00               0.744758           2.333333   \n",
       "500                     1.00               1.623408           1.000000   \n",
       "501                    71.00               2.015595           0.000000   \n",
       "502                    49.00              10.091755           0.666667   \n",
       "503                    49.00              10.091755           0.000000   \n",
       "504                   120.00              57.681580           0.333333   \n",
       "505                     1.00              12.013425           0.333333   \n",
       "506                  1261.67               0.815187           1.000000   \n",
       "507                     1.00               0.372569           0.333333   \n",
       "508                    12.00               1.302067           2.333333   \n",
       "509                     1.00               2.240418           0.666667   \n",
       "510                     1.00               0.638140           0.333333   \n",
       "511                     1.00               4.090561           1.333333   \n",
       "\n",
       "     outliers_cantidad  \n",
       "0             1.000000  \n",
       "1             0.631818  \n",
       "2             1.000000  \n",
       "3             1.000000  \n",
       "4             1.000000  \n",
       "5             1.000000  \n",
       "6             0.950000  \n",
       "7             1.000000  \n",
       "8             1.000000  \n",
       "9             1.000000  \n",
       "10            0.995455  \n",
       "11            1.000000  \n",
       "12            1.000000  \n",
       "13            1.000000  \n",
       "14            0.968182  \n",
       "15            1.000000  \n",
       "16            1.000000  \n",
       "17            1.000000  \n",
       "18            1.000000  \n",
       "19            1.336364  \n",
       "20            1.000000  \n",
       "21            1.000000  \n",
       "22            1.000000  \n",
       "23            0.950000  \n",
       "24            0.895455  \n",
       "25            0.895455  \n",
       "26            1.000000  \n",
       "27            0.786364  \n",
       "28           14.904545  \n",
       "29          223.977273  \n",
       "..                 ...  \n",
       "482         121.722727  \n",
       "483           1.000000  \n",
       "484          70.018182  \n",
       "485         146.722727  \n",
       "486           0.986364  \n",
       "487           1.000000  \n",
       "488           0.950000  \n",
       "489           0.822727  \n",
       "490           1.000000  \n",
       "491           0.104545  \n",
       "492           1.000000  \n",
       "493           1.000000  \n",
       "494           1.000000  \n",
       "495           0.995455  \n",
       "496           0.950000  \n",
       "497           0.936364  \n",
       "498           1.000000  \n",
       "499           0.990909  \n",
       "500           1.000000  \n",
       "501           0.681818  \n",
       "502           0.781818  \n",
       "503           0.781818  \n",
       "504           0.459091  \n",
       "505           1.000000  \n",
       "506           4.730318  \n",
       "507           1.000000  \n",
       "508           0.950000  \n",
       "509           1.000000  \n",
       "510           1.000000  \n",
       "511           1.000000  \n",
       "\n",
       "[512 rows x 10 columns]"
      ]
     },
     "execution_count": 10,
     "metadata": {},
     "output_type": "execute_result"
    }
   ],
   "source": [
    "bac2017_lp_muestra2"
   ]
  },
  {
   "cell_type": "code",
   "execution_count": 11,
   "metadata": {},
   "outputs": [
    {
     "data": {
      "image/png": "[encoded data removed]",
      "text/plain": [
       "<Figure size 432x288 with 1 Axes>"
      ]
     },
     "metadata": {
      "needs_background": "light"
     },
     "output_type": "display_data"
    }
   ],
   "source": [
    "df = bac2017_lp_muestra1\n",
    "sns.boxplot( y=df[\"tender/value/amount\"], palette=\"Blues\");"
   ]
  },
  {
   "cell_type": "code",
   "execution_count": 13,
   "metadata": {},
   "outputs": [
    {
     "data": {
      "image/png": "[encoded data removed]",
      "text/plain": [
       "<Figure size 432x288 with 1 Axes>"
      ]
     },
     "metadata": {
      "needs_background": "light"
     },
     "output_type": "display_data"
    }
   ],
   "source": [
    "df = bac2017_lp_muestra2[bac2017_lp_muestra2['outliers_value_amount']<=5]\n",
    "sns.boxplot( y=df[\"tender/value/amount\"], palette=\"Blues\");"
   ]
  },
  {
   "cell_type": "code",
   "execution_count": 14,
   "metadata": {
    "scrolled": true
   },
   "outputs": [],
   "source": [
    "bac2017_lp_muestra2=bac2017_lp_muestra2[bac2017_lp_muestra2['outliers_value_amount']<=5]"
   ]
  },
  {
   "cell_type": "code",
   "execution_count": null,
   "metadata": {},
   "outputs": [],
   "source": []
  },
  {
   "cell_type": "markdown",
   "metadata": {},
   "source": [
    "## Estandarizacion"
   ]
  },
  {
   "cell_type": "code",
   "execution_count": 15,
   "metadata": {},
   "outputs": [],
   "source": [
    "X1 = bac2017_lp_muestra1.iloc[:,4:7].values\n",
    "\n",
    "X2 = bac2017_lp_muestra2.iloc[:,4:7].values\n",
    "\n",
    "y1 = bac2017_lp_muestra1.iloc[:,2].values\n",
    "y2 = bac2017_lp_muestra2.iloc[:,2].values\n",
    "\n"
   ]
  },
  {
   "cell_type": "code",
   "execution_count": 16,
   "metadata": {},
   "outputs": [],
   "source": [
    "#Aplicamos una transformación de los datos para poder aplicar las propiedades de la distribución normal\n",
    "\n",
    "from sklearn.preprocessing import StandardScaler\n",
    "X1std = StandardScaler().fit_transform(X1)\n",
    "X2std = StandardScaler().fit_transform(X2)\n"
   ]
  },
  {
   "cell_type": "code",
   "execution_count": 17,
   "metadata": {},
   "outputs": [
    {
     "data": {
      "text/plain": [
       "array([[ 0.09820688, -0.63021371, -0.25583808],\n",
       "       [ 2.34258599,  0.40199812, -0.25571513],\n",
       "       [ 0.96142961, -0.21732897, -0.25534629],\n",
       "       ...,\n",
       "       [ 2.48645069,  0.19555576, -0.25620692],\n",
       "       [ 1.91097462, -0.42377134, -0.25583808],\n",
       "       [ 2.34258599, -0.63021371, -0.25628888]])"
      ]
     },
     "execution_count": 17,
     "metadata": {},
     "output_type": "execute_result"
    }
   ],
   "source": [
    "X1std"
   ]
  },
  {
   "cell_type": "code",
   "execution_count": 18,
   "metadata": {},
   "outputs": [
    {
     "data": {
      "text/plain": [
       "array([[ 0.67540993,  2.2586252 , -0.33982799],\n",
       "       [-0.5421047 ,  0.14183735, -0.33982799],\n",
       "       [-1.05202848, -0.21096062, -0.33972098],\n",
       "       ...,\n",
       "       [ 0.61095328, -0.74015758, -0.33982799],\n",
       "       [-0.68534172, -0.5637586 , -0.33982799],\n",
       "       [ 2.10778009, -1.09295556, -0.33982799]])"
      ]
     },
     "execution_count": 18,
     "metadata": {},
     "output_type": "execute_result"
    }
   ],
   "source": [
    "X2std"
   ]
  },
  {
   "cell_type": "code",
   "execution_count": 19,
   "metadata": {},
   "outputs": [],
   "source": [
    "np.set_printoptions(suppress=True)"
   ]
  },
  {
   "cell_type": "markdown",
   "metadata": {},
   "source": [
    "# Calculamos la matriz de covarianza"
   ]
  },
  {
   "cell_type": "markdown",
   "metadata": {},
   "source": [
    "Tiene 1 en la diagonal principal, al estandarizar las variables su varianza es igual a 1. "
   ]
  },
  {
   "cell_type": "code",
   "execution_count": 20,
   "metadata": {},
   "outputs": [
    {
     "name": "stdout",
     "output_type": "stream",
     "text": [
      "Matriz de covarianza de los datos estandarizados 1: \n",
      "[[1.00195695 0.1057916  0.21337999]\n",
      " [0.1057916  1.00195695 0.02225987]\n",
      " [0.21337999 0.02225987 1.00195695]]\n"
     ]
    }
   ],
   "source": [
    "\n",
    "X1_cov=np.cov(X1std.T)\n",
    "print('Matriz de covarianza de los datos estandarizados 1: \\n%s' %np.cov(X1std.T))"
   ]
  },
  {
   "cell_type": "code",
   "execution_count": 53,
   "metadata": {
    "collapsed": true
   },
   "outputs": [
    {
     "ename": "NameError",
     "evalue": "name 'X_std17' is not defined",
     "output_type": "error",
     "traceback": [
      "\u001b[1;31m---------------------------------------------------------------------------\u001b[0m",
      "\u001b[1;31mNameError\u001b[0m                                 Traceback (most recent call last)",
      "\u001b[1;32m<ipython-input-53-6c22184fea3f>\u001b[0m in \u001b[0;36m<module>\u001b[1;34m()\u001b[0m\n\u001b[1;32m----> 1\u001b[1;33m pd.DataFrame(np.cov(X_std17.T), columns=['tender/value/amount', 'tender/tenderPeriod/durationInDays',\n\u001b[0m\u001b[0;32m      2\u001b[0m        \u001b[1;34m'tender/items/0/quantity'\u001b[0m\u001b[1;33m]\u001b[0m\u001b[1;33m,\u001b[0m \u001b[0mindex\u001b[0m\u001b[1;33m=\u001b[0m\u001b[1;33m[\u001b[0m\u001b[1;34m'tender/value/amount'\u001b[0m\u001b[1;33m,\u001b[0m \u001b[1;34m'tender/tenderPeriod/durationInDays'\u001b[0m\u001b[1;33m,\u001b[0m\u001b[1;33m\u001b[0m\u001b[1;33m\u001b[0m\u001b[0m\n\u001b[0;32m      3\u001b[0m        'tender/items/0/quantity']).to_excel('cov17.xlsx', index=False)\n",
      "\u001b[1;31mNameError\u001b[0m: name 'X_std17' is not defined"
     ]
    }
   ],
   "source": [
    "pd.DataFrame(np.cov(X_std17.T), columns=['tender/value/amount', 'tender/tenderPeriod/durationInDays',\n",
    "       'tender/items/0/quantity'], index=['tender/value/amount', 'tender/tenderPeriod/durationInDays',\n",
    "       'tender/items/0/quantity']).to_excel('cov17.xlsx', index=False)"
   ]
  },
  {
   "cell_type": "code",
   "execution_count": 21,
   "metadata": {
    "scrolled": true
   },
   "outputs": [
    {
     "name": "stdout",
     "output_type": "stream",
     "text": [
      "Matriz de covarianza de los datos estandarizados 2: \n",
      "[[ 1.00255102 -0.03362703  0.11085849]\n",
      " [-0.03362703  1.00255102  0.03780484]\n",
      " [ 0.11085849  0.03780484  1.00255102]]\n"
     ]
    }
   ],
   "source": [
    "X2_cov=np.cov(X2std.T)\n",
    "\n",
    "print('Matriz de covarianza de los datos estandarizados 2: \\n%s' %np.cov(X2std.T))"
   ]
  },
  {
   "cell_type": "code",
   "execution_count": 50,
   "metadata": {},
   "outputs": [],
   "source": [
    "pd.DataFrame(np.cov(X_std18.T), columns=['tender/value/amount', 'tender/tenderPeriod/durationInDays',\n",
    "       'tender/items/0/quantity'], index=['tender/value/amount', 'tender/tenderPeriod/durationInDays',\n",
    "       'tender/items/0/quantity']).to_excel('cov18.xlsx', index=False)"
   ]
  },
  {
   "cell_type": "markdown",
   "metadata": {},
   "source": [
    "# Calculamos los autovalores y autovectores de la matriz y los mostramos\n"
   ]
  },
  {
   "cell_type": "code",
   "execution_count": 22,
   "metadata": {},
   "outputs": [
    {
     "name": "stdout",
     "output_type": "stream",
     "text": [
      "Autovectores \n",
      "[[ 0.69285977  0.71880657  0.0571178 ]\n",
      " [ 0.35266032 -0.26870523 -0.89634156]\n",
      " [ 0.62894836 -0.64118219  0.4396696 ]]\n",
      "\n",
      "Autovalores \n",
      "[1.24950126 0.77207284 0.98429675]\n"
     ]
    }
   ],
   "source": [
    "cov_mat1 = np.cov(X1std.T)\n",
    "\n",
    "eig_vals1, eig_vecs1 = np.linalg.eig(X1_cov)\n",
    "\n",
    "print('Autovectores \\n%s' %eig_vecs1)\n",
    "print('\\nAutovalores \\n%s' %eig_vals1)"
   ]
  },
  {
   "cell_type": "code",
   "execution_count": 23,
   "metadata": {},
   "outputs": [
    {
     "name": "stdout",
     "output_type": "stream",
     "text": [
      "Autovectores \n",
      "[[ 0.65622876  0.70199753 -0.27670071]\n",
      " [ 0.36121981  0.02969298  0.93200782]\n",
      " [-0.66248326  0.71156011  0.23409003]]\n",
      "\n",
      "Autovalores \n",
      "[0.87212601 1.11349727 1.02202978]\n"
     ]
    }
   ],
   "source": [
    "cov_mat2 = np.cov(X2std.T)\n",
    "\n",
    "eig_vals2, eig_vecs2 = np.linalg.eig(X2_cov)\n",
    "\n",
    "print('Autovectores \\n%s' %eig_vecs2)\n",
    "print('\\nAutovalores \\n%s' %eig_vals2)"
   ]
  },
  {
   "cell_type": "code",
   "execution_count": null,
   "metadata": {},
   "outputs": [],
   "source": []
  },
  {
   "cell_type": "code",
   "execution_count": 24,
   "metadata": {},
   "outputs": [
    {
     "name": "stdout",
     "output_type": "stream",
     "text": [
      "Autovalores en orden descendiente:\n",
      "1.2495012595944317\n",
      "Autovectores:\n",
      "[0.69285977 0.35266032 0.62894836]\n",
      "Autovalores en orden descendiente:\n",
      "0.9842967452179144\n",
      "Autovectores:\n",
      "[ 0.0571178  -0.89634156  0.4396696 ]\n",
      "Autovalores en orden descendiente:\n",
      "0.772072836674933\n",
      "Autovectores:\n",
      "[ 0.71880657 -0.26870523 -0.64118219]\n"
     ]
    }
   ],
   "source": [
    "#  Hacemos una lista de parejas (autovector, autovalor) \n",
    "eig_pairs = [(np.abs(eig_vals1[i]), eig_vecs1[:,i]) for i in range(len(eig_vals1))]\n",
    "\n",
    "# Ordenamos estas parejas den orden descendiente con la función sort\n",
    "eig_pairs.sort(key=lambda x: x[0], reverse=True)\n",
    "\n",
    "# Visualizamos la lista de autovalores en orden desdenciente\n",
    "\n",
    "for i in eig_pairs:\n",
    "    print('Autovalores en orden descendiente:')\n",
    "    print(i[0])\n",
    "    print('Autovectores:')\n",
    "    print(i[1])\n",
    "    "
   ]
  },
  {
   "cell_type": "code",
   "execution_count": 25,
   "metadata": {},
   "outputs": [
    {
     "name": "stdout",
     "output_type": "stream",
     "text": [
      "Autovalores en orden descendiente:\n",
      "1.1134972694487968\n",
      "Autovectores:\n",
      "[0.70199753 0.02969298 0.71156011]\n",
      "Autovalores en orden descendiente:\n",
      "1.022029783261019\n",
      "Autovectores:\n",
      "[-0.27670071  0.93200782  0.23409003]\n",
      "Autovalores en orden descendiente:\n",
      "0.872126008514672\n",
      "Autovectores:\n",
      "[ 0.65622876  0.36121981 -0.66248326]\n"
     ]
    }
   ],
   "source": [
    "#  Hacemos una lista de parejas (autovector, autovalor) \n",
    "eig_pairs = [(np.abs(eig_vals2[i]), eig_vecs2[:,i]) for i in range(len(eig_vals2))]\n",
    "\n",
    "# Ordenamos estas parejas den orden descendiente con la función sort\n",
    "eig_pairs.sort(key=lambda x: x[0], reverse=True)\n",
    "\n",
    "# Visualizamos la lista de autovalores en orden desdenciente\n",
    "\n",
    "for i in eig_pairs:\n",
    "    print('Autovalores en orden descendiente:')\n",
    "    print(i[0])\n",
    "    print('Autovectores:')\n",
    "    print(i[1])"
   ]
  },
  {
   "cell_type": "code",
   "execution_count": null,
   "metadata": {},
   "outputs": [],
   "source": []
  },
  {
   "cell_type": "code",
   "execution_count": 26,
   "metadata": {},
   "outputs": [],
   "source": [
    "import matplotlib.pyplot as plt\n",
    "%matplotlib inline"
   ]
  },
  {
   "cell_type": "code",
   "execution_count": 27,
   "metadata": {},
   "outputs": [
    {
     "data": {
      "image/png": "[encoded data removed]",
      "text/plain": [
       "<Figure size 720x432 with 1 Axes>"
      ]
     },
     "metadata": {
      "needs_background": "light"
     },
     "output_type": "display_data"
    }
   ],
   "source": [
    "# A partir de los autovalores, calculamos la varianza explicada\n",
    "\n",
    "tot = sum(eig_vals1)\n",
    "var_exp = [(i / tot)*100 for i in sorted(eig_vals1, reverse=True)]\n",
    "cum_var_exp = np.cumsum(var_exp)\n",
    "# Representamos en un diagrama de barras la varianza explicada por cada autovalor, y la acumulada\n",
    "with plt.style.context('seaborn-pastel'):\n",
    "    plt.figure(figsize=(10, 6))\n",
    "\n",
    "    plt.bar(range(3), var_exp, alpha=0.5, align='center',\n",
    "            label='Varianza individual explicada', color='g')\n",
    "    plt.step(range(3), cum_var_exp, where='mid', linestyle='--', label='Varianza explicada acumulada')\n",
    "    plt.ylabel('Ratio de Varianza Explicada')\n",
    "    plt.xlabel('Componentes Principales')\n",
    "    plt.legend(loc='best')\n",
    "    plt.tight_layout()"
   ]
  },
  {
   "cell_type": "code",
   "execution_count": 28,
   "metadata": {},
   "outputs": [
    {
     "data": {
      "text/plain": [
       "[41.568694248226215, 32.7458096879137, 25.68549606386008]"
      ]
     },
     "execution_count": 28,
     "metadata": {},
     "output_type": "execute_result"
    }
   ],
   "source": [
    "var_exp"
   ]
  },
  {
   "cell_type": "code",
   "execution_count": 29,
   "metadata": {},
   "outputs": [
    {
     "data": {
      "text/plain": [
       "74.31450393613991"
      ]
     },
     "execution_count": 29,
     "metadata": {},
     "output_type": "execute_result"
    }
   ],
   "source": [
    "var_exp[0]+var_exp[1]"
   ]
  },
  {
   "cell_type": "code",
   "execution_count": 30,
   "metadata": {},
   "outputs": [
    {
     "data": {
      "image/png": "[encoded data removed]",
      "text/plain": [
       "<Figure size 720x432 with 1 Axes>"
      ]
     },
     "metadata": {
      "needs_background": "light"
     },
     "output_type": "display_data"
    }
   ],
   "source": [
    "# A partir de los autovalores, calculamos la varianza explicada\n",
    "\n",
    "tot = sum(eig_vals2)\n",
    "var_exp = [(i / tot)*100 for i in sorted(eig_vals2, reverse=True)]\n",
    "cum_var_exp = np.cumsum(var_exp)\n",
    "# Representamos en un diagrama de barras la varianza explicada por cada autovalor, y la acumulada\n",
    "with plt.style.context('seaborn-pastel'):\n",
    "    plt.figure(figsize=(10, 6))\n",
    "\n",
    "    plt.bar(range(3), var_exp, alpha=0.5, align='center',\n",
    "            label='Varianza individual explicada', color='g')\n",
    "    plt.step(range(3), cum_var_exp, where='mid', linestyle='--', label='Varianza explicada acumulada')\n",
    "    plt.ylabel('Ratio de Varianza Explicada')\n",
    "    plt.xlabel('Componentes Principales')\n",
    "    plt.legend(loc='best')\n",
    "    plt.tight_layout()"
   ]
  },
  {
   "cell_type": "code",
   "execution_count": 31,
   "metadata": {},
   "outputs": [
    {
     "data": {
      "text/plain": [
       "71.00310472114066"
      ]
     },
     "execution_count": 31,
     "metadata": {},
     "output_type": "execute_result"
    }
   ],
   "source": [
    "var_exp[0]+var_exp[1]"
   ]
  },
  {
   "cell_type": "code",
   "execution_count": 32,
   "metadata": {},
   "outputs": [
    {
     "data": {
      "text/plain": [
       "28.99689527885934"
      ]
     },
     "execution_count": 32,
     "metadata": {},
     "output_type": "execute_result"
    }
   ],
   "source": [
    "var_exp[0]+var_exp[1]\n",
    "var_exp[2]"
   ]
  },
  {
   "cell_type": "code",
   "execution_count": 33,
   "metadata": {
    "scrolled": true
   },
   "outputs": [
    {
     "data": {
      "text/plain": [
       "array(['complete', 'cancelled', 'unsuccessful', 'active'], dtype=object)"
      ]
     },
     "execution_count": 33,
     "metadata": {},
     "output_type": "execute_result"
    }
   ],
   "source": [
    "pd.Series(y2).unique()"
   ]
  },
  {
   "cell_type": "markdown",
   "metadata": {},
   "source": [
    "## Ejecuto el algoritmo PCA"
   ]
  },
  {
   "cell_type": "markdown",
   "metadata": {},
   "source": [
    "## muestra 1"
   ]
  },
  {
   "cell_type": "code",
   "execution_count": 55,
   "metadata": {},
   "outputs": [],
   "source": [
    "pca = PCA(n_components=2)\n",
    "principalComponents = pca.fit_transform(X1std)\n",
    "principalDf = pd.DataFrame(data = principalComponents\n",
    "             , columns = ['principal component 1', 'principal component 2'])"
   ]
  },
  {
   "cell_type": "markdown",
   "metadata": {},
   "source": [
    "## agrego la columna con las etiquetas que me interesan"
   ]
  },
  {
   "cell_type": "code",
   "execution_count": 56,
   "metadata": {},
   "outputs": [],
   "source": [
    "finalDf = pd.concat([principalDf,pd.Series(y1)], axis = 1)\n",
    "\n"
   ]
  },
  {
   "cell_type": "code",
   "execution_count": 57,
   "metadata": {},
   "outputs": [
    {
     "data": {
      "text/plain": [
       "array([[ 0.77448622, -0.05666756],\n",
       "       [ 0.39420755,  0.88927598],\n",
       "       [ 0.70304534, -0.43620382]])"
      ]
     },
     "execution_count": 57,
     "metadata": {},
     "output_type": "execute_result"
    }
   ],
   "source": [
    "## Mediante la carga factorial de cada variable original respecto de los componentes seleccionados (1 y 2)\n",
    "pca.fit(X1std)\n",
    "pca.components_.T * np.sqrt(pca.explained_variance_)"
   ]
  },
  {
   "cell_type": "code",
   "execution_count": 58,
   "metadata": {},
   "outputs": [
    {
     "data": {
      "text/html": [
       "<div>\n",
       "<style scoped>\n",
       "    .dataframe tbody tr th:only-of-type {\n",
       "        vertical-align: middle;\n",
       "    }\n",
       "\n",
       "    .dataframe tbody tr th {\n",
       "        vertical-align: top;\n",
       "    }\n",
       "\n",
       "    .dataframe thead th {\n",
       "        text-align: right;\n",
       "    }\n",
       "</style>\n",
       "<table border=\"1\" class=\"dataframe\">\n",
       "  <thead>\n",
       "    <tr style=\"text-align: right;\">\n",
       "      <th></th>\n",
       "      <th>PC1</th>\n",
       "      <th>PC2</th>\n",
       "    </tr>\n",
       "  </thead>\n",
       "  <tbody>\n",
       "    <tr>\n",
       "      <th>tender/value/amount</th>\n",
       "      <td>0.774486</td>\n",
       "      <td>-0.056668</td>\n",
       "    </tr>\n",
       "    <tr>\n",
       "      <th>tender/tenderPeriod/durationInDays</th>\n",
       "      <td>0.394208</td>\n",
       "      <td>0.889276</td>\n",
       "    </tr>\n",
       "    <tr>\n",
       "      <th>tender/items/0/quantity</th>\n",
       "      <td>0.703045</td>\n",
       "      <td>-0.436204</td>\n",
       "    </tr>\n",
       "  </tbody>\n",
       "</table>\n",
       "</div>"
      ],
      "text/plain": [
       "                                         PC1       PC2\n",
       "tender/value/amount                 0.774486 -0.056668\n",
       "tender/tenderPeriod/durationInDays  0.394208  0.889276\n",
       "tender/items/0/quantity             0.703045 -0.436204"
      ]
     },
     "execution_count": 58,
     "metadata": {},
     "output_type": "execute_result"
    }
   ],
   "source": [
    "pd.DataFrame(pca.components_.T * np.sqrt(pca.explained_variance_), columns=['PC1', 'PC2'], index=['tender/value/amount', 'tender/tenderPeriod/durationInDays',\n",
    "       'tender/items/0/quantity'])"
   ]
  },
  {
   "cell_type": "code",
   "execution_count": 59,
   "metadata": {},
   "outputs": [],
   "source": [
    "## PC1 esta correlacionada con las variables 1 y 3\n",
    "## PC2 correlacionada con la variable 2"
   ]
  },
  {
   "cell_type": "markdown",
   "metadata": {},
   "source": [
    "El primer factor esta fuertemente correlacionado con las variables originales 1 (tender/value/amount) y 3 (tender/items/0/quantity),\n",
    "\n",
    "mientras que el segundo factor esta fuertemente correlacionado con la varible original 2 (tender/tenderPeriod/durationInDays)"
   ]
  },
  {
   "cell_type": "markdown",
   "metadata": {},
   "source": [
    "# Etiqueto PC1: \"Precio y cantidad\" en tanto esta afectado por el monto total por el cual el gobierno esta dispuesto a licitar\n",
    "\n",
    "\n",
    "# Etiqueto PC2: \"Duración del proceso\" en tanto esta afectado por la duración del proceso licitatorio.        "
   ]
  },
  {
   "cell_type": "code",
   "execution_count": 60,
   "metadata": {},
   "outputs": [],
   "source": [
    "finalDf.columns=['Precio y cantidad', 'Duración del proceso', 'target']"
   ]
  },
  {
   "cell_type": "markdown",
   "metadata": {},
   "source": [
    "\n",
    "## Ploteo los resultados"
   ]
  },
  {
   "cell_type": "code",
   "execution_count": 61,
   "metadata": {},
   "outputs": [
    {
     "data": {
      "image/png": "[encoded data removed]",
      "text/plain": [
       "<Figure size 720x720 with 1 Axes>"
      ]
     },
     "metadata": {
      "needs_background": "light"
     },
     "output_type": "display_data"
    }
   ],
   "source": [
    "fig = plt.figure(figsize = (10,10))\n",
    "ax = fig.add_subplot(1,1,1) \n",
    "ax.set_xlabel('Precio y cantidad', fontsize = 15)\n",
    "ax.set_ylabel('Duración del proceso', fontsize = 15)\n",
    "ax.set_title('2 component PCA', fontsize = 20)\n",
    "targets = ['complete', 'cancelled', 'unsuccessful']\n",
    "colors = [ 'g', 'b', 'r']\n",
    "for target, color in zip(targets,colors):\n",
    "    indicesToKeep = finalDf['target'] == target\n",
    "    ax.scatter(finalDf.loc[indicesToKeep, 'Precio y cantidad']\n",
    "               , finalDf.loc[indicesToKeep, 'Duración del proceso']\n",
    "               , c = color\n",
    "               , s = 10)\n",
    "ax.legend(targets)\n",
    "ax.grid()"
   ]
  },
  {
   "cell_type": "code",
   "execution_count": 62,
   "metadata": {},
   "outputs": [
    {
     "data": {
      "image/png": "[encoded data removed]",
      "text/plain": [
       "<Figure size 720x720 with 1 Axes>"
      ]
     },
     "metadata": {
      "needs_background": "light"
     },
     "output_type": "display_data"
    }
   ],
   "source": [
    "fig = plt.figure(figsize = (10,10))\n",
    "ax = fig.add_subplot(1,1,1) \n",
    "ax.set_xlabel('Precio y cantidad', fontsize = 15)\n",
    "ax.set_ylabel('Duración del proceso', fontsize = 15)\n",
    "ax.set_title('2 component PCA', fontsize = 20)\n",
    "targets = ['complete', ]\n",
    "colors = [ 'g',]\n",
    "for target, color in zip(targets,colors):\n",
    "    indicesToKeep = finalDf['target'] == target\n",
    "    ax.scatter(finalDf.loc[indicesToKeep, 'Precio y cantidad']\n",
    "               , finalDf.loc[indicesToKeep, 'Duración del proceso']\n",
    "               , c = color\n",
    "               , s = 10)\n",
    "ax.legend(targets)\n",
    "ax.grid()"
   ]
  },
  {
   "cell_type": "code",
   "execution_count": 63,
   "metadata": {},
   "outputs": [
    {
     "data": {
      "image/png": "[encoded data removed]",
      "text/plain": [
       "<Figure size 720x720 with 1 Axes>"
      ]
     },
     "metadata": {
      "needs_background": "light"
     },
     "output_type": "display_data"
    }
   ],
   "source": [
    "fig = plt.figure(figsize = (10,10))\n",
    "ax = fig.add_subplot(1,1,1) \n",
    "ax.set_xlabel('Precio y cantidad', fontsize = 15)\n",
    "ax.set_ylabel('Duración del proceso', fontsize = 15)\n",
    "ax.set_title('2 component PCA', fontsize = 20)\n",
    "targets = [ 'cancelled',]\n",
    "colors = [  'b']\n",
    "for target, color in zip(targets,colors):\n",
    "    indicesToKeep = finalDf['target'] == target\n",
    "    ax.scatter(finalDf.loc[indicesToKeep, 'Precio y cantidad']\n",
    "               , finalDf.loc[indicesToKeep, 'Duración del proceso']\n",
    "               , c = color\n",
    "               , s = 10)\n",
    "ax.legend(targets)\n",
    "ax.grid()"
   ]
  },
  {
   "cell_type": "code",
   "execution_count": 64,
   "metadata": {},
   "outputs": [
    {
     "data": {
      "image/png": "[encoded data removed]",
      "text/plain": [
       "<Figure size 1152x576 with 3 Axes>"
      ]
     },
     "metadata": {
      "needs_background": "light"
     },
     "output_type": "display_data"
    }
   ],
   "source": [
    "fig, (vax, hax, fax) = plt.subplots(1, 3, figsize=(16, 8))\n",
    "\n",
    "# ploteo los puntos de los procesos cancelados en el nuevo par de ejes\n",
    "vax.set_xlabel('Precio y cantidad', fontsize = 15)\n",
    "vax.set_ylabel('Duración del proceso', fontsize = 15)\n",
    "vax.set_title('Licitaciones públicas canceladas', fontsize = 15)\n",
    "vax.set_xlim(-2,7)\n",
    "vax.set_ylim(-4,6)\n",
    "\n",
    "targets = ['cancelled']\n",
    "colors = [ 'r']\n",
    "for target, color in zip(targets,colors):\n",
    "    indicesToKeep = finalDf['target'] == target\n",
    "    vax.scatter(finalDf.loc[indicesToKeep, 'Precio y cantidad']\n",
    "               , finalDf.loc[indicesToKeep, 'Duración del proceso']\n",
    "               , c = color\n",
    "               , s = 15)\n",
    "\n",
    "vax.legend(targets)\n",
    "vax.grid()\n",
    "\n",
    "# ploteo los puntos de los procesos completos en el nuevo par de ejes\n",
    "hax.set_xlabel('Precio y cantidad', fontsize = 15)\n",
    "hax.set_ylabel('Duración del proceso', fontsize = 15)\n",
    "hax.set_title('Licitaciones públicas completas', fontsize = 15)\n",
    "hax.set_xlim(-2,7)\n",
    "hax.set_ylim(-4,6)\n",
    "\n",
    "targets = ['complete']\n",
    "colors = [ 'g']\n",
    "for target, color in zip(targets,colors):\n",
    "    indicesToKeep = finalDf['target'] == target\n",
    "    hax.scatter(finalDf.loc[indicesToKeep, 'Precio y cantidad']\n",
    "               , finalDf.loc[indicesToKeep, 'Duración del proceso']\n",
    "               , c = color\n",
    "               , s = 15\n",
    "               , )\n",
    "hax.legend(targets)\n",
    "hax.grid()\n",
    "\n",
    "# ploteo los puntos de los procesos no exitosos en el nuevo par de ejes\n",
    "fax.set_xlabel('Precio y cantidad', fontsize = 15)\n",
    "fax.set_ylabel('Duración del proceso', fontsize = 15)\n",
    "fax.set_title('Licitaciones públicas desiertas', fontsize = 15)\n",
    "fax.set_xlim(-2,7)\n",
    "fax.set_ylim(-4,6)\n",
    "\n",
    "targets = ['unsuccessful']\n",
    "colors = [ 'y']\n",
    "for target, color in zip(targets,colors):\n",
    "    indicesToKeep = finalDf['target'] == target\n",
    "    fax.scatter(finalDf.loc[indicesToKeep, 'Precio y cantidad']\n",
    "               , finalDf.loc[indicesToKeep, 'Duración del proceso']\n",
    "               , c = color\n",
    "               , s = 15)\n",
    "fax.legend(targets)\n",
    "fax.grid()\n"
   ]
  },
  {
   "cell_type": "markdown",
   "metadata": {},
   "source": [
    "## Muestra 2"
   ]
  },
  {
   "cell_type": "code",
   "execution_count": 65,
   "metadata": {},
   "outputs": [],
   "source": [
    "pca = PCA(n_components=2)\n",
    "principalComponents = pca.fit_transform(X2std)\n",
    "principalDf = pd.DataFrame(data = principalComponents\n",
    "             , columns = ['principal component 1', 'principal component 2'])"
   ]
  },
  {
   "cell_type": "code",
   "execution_count": 66,
   "metadata": {},
   "outputs": [],
   "source": [
    "finalDf = pd.concat([principalDf,pd.Series(y2)], axis = 1)\n"
   ]
  },
  {
   "cell_type": "code",
   "execution_count": 67,
   "metadata": {},
   "outputs": [
    {
     "data": {
      "text/plain": [
       "array([[ 0.7407645 , -0.27973194],\n",
       "       [ 0.03133274,  0.94221786],\n",
       "       [ 0.75085516,  0.23665446]])"
      ]
     },
     "execution_count": 67,
     "metadata": {},
     "output_type": "execute_result"
    }
   ],
   "source": [
    "## Mediante la carga factorial de cada variable original respecto de los componentes seleccionados (1 y 2)\n",
    "pca.fit(X2std)\n",
    "pca.components_.T * np.sqrt(pca.explained_variance_)"
   ]
  },
  {
   "cell_type": "code",
   "execution_count": 68,
   "metadata": {},
   "outputs": [
    {
     "data": {
      "text/html": [
       "<div>\n",
       "<style scoped>\n",
       "    .dataframe tbody tr th:only-of-type {\n",
       "        vertical-align: middle;\n",
       "    }\n",
       "\n",
       "    .dataframe tbody tr th {\n",
       "        vertical-align: top;\n",
       "    }\n",
       "\n",
       "    .dataframe thead th {\n",
       "        text-align: right;\n",
       "    }\n",
       "</style>\n",
       "<table border=\"1\" class=\"dataframe\">\n",
       "  <thead>\n",
       "    <tr style=\"text-align: right;\">\n",
       "      <th></th>\n",
       "      <th>PC1</th>\n",
       "      <th>PC2</th>\n",
       "    </tr>\n",
       "  </thead>\n",
       "  <tbody>\n",
       "    <tr>\n",
       "      <th>tender/value/amount</th>\n",
       "      <td>0.740765</td>\n",
       "      <td>-0.279732</td>\n",
       "    </tr>\n",
       "    <tr>\n",
       "      <th>tender/tenderPeriod/durationInDays</th>\n",
       "      <td>0.031333</td>\n",
       "      <td>0.942218</td>\n",
       "    </tr>\n",
       "    <tr>\n",
       "      <th>tender/items/0/quantity</th>\n",
       "      <td>0.750855</td>\n",
       "      <td>0.236654</td>\n",
       "    </tr>\n",
       "  </tbody>\n",
       "</table>\n",
       "</div>"
      ],
      "text/plain": [
       "                                         PC1       PC2\n",
       "tender/value/amount                 0.740765 -0.279732\n",
       "tender/tenderPeriod/durationInDays  0.031333  0.942218\n",
       "tender/items/0/quantity             0.750855  0.236654"
      ]
     },
     "execution_count": 68,
     "metadata": {},
     "output_type": "execute_result"
    }
   ],
   "source": [
    "pd.DataFrame(pca.components_.T * np.sqrt(pca.explained_variance_), columns=['PC1', 'PC2'], index=['tender/value/amount', 'tender/tenderPeriod/durationInDays',\n",
    "       'tender/items/0/quantity'])"
   ]
  },
  {
   "cell_type": "markdown",
   "metadata": {},
   "source": [
    "## Etiqueto PC1: \"Precio y cantidad\" en tanto esta afectado por el monto total por el cual el gobierno esta dispuesto a licitar\n",
    "## Etiqueto PC2: \"Duración del proceso\" en tanto esta afectado por la duración del proceso licitatorio."
   ]
  },
  {
   "cell_type": "code",
   "execution_count": 69,
   "metadata": {},
   "outputs": [],
   "source": [
    "finalDf.columns=['Precio y cantidad', 'Duración del proceso', 'target']"
   ]
  },
  {
   "cell_type": "code",
   "execution_count": 70,
   "metadata": {},
   "outputs": [
    {
     "data": {
      "image/png": "[encoded data removed]",
      "text/plain": [
       "<Figure size 720x720 with 1 Axes>"
      ]
     },
     "metadata": {
      "needs_background": "light"
     },
     "output_type": "display_data"
    }
   ],
   "source": [
    "fig = plt.figure(figsize = (10,10))\n",
    "ax = fig.add_subplot(1,1,1) \n",
    "ax.set_xlabel('Precio y cantidad', fontsize = 15)\n",
    "ax.set_ylabel('Duración del proceso', fontsize = 15)\n",
    "ax.set_title('2 component PCA', fontsize = 20)\n",
    "targets = ['complete', 'cancelled', 'unsuccessful']\n",
    "colors = [ 'g', 'b', 'r']\n",
    "for target, color in zip(targets,colors):\n",
    "    indicesToKeep = finalDf['target'] == target\n",
    "    ax.scatter(finalDf.loc[indicesToKeep, 'Precio y cantidad']\n",
    "               , finalDf.loc[indicesToKeep, 'Duración del proceso']\n",
    "               , c = color\n",
    "               , s = 10)\n",
    "ax.legend(targets)\n",
    "ax.grid()"
   ]
  },
  {
   "cell_type": "code",
   "execution_count": 71,
   "metadata": {},
   "outputs": [
    {
     "data": {
      "image/png": "[encoded data removed]",
      "text/plain": [
       "<Figure size 720x720 with 1 Axes>"
      ]
     },
     "metadata": {
      "needs_background": "light"
     },
     "output_type": "display_data"
    }
   ],
   "source": [
    "fig = plt.figure(figsize = (10,10))\n",
    "ax = fig.add_subplot(1,1,1) \n",
    "ax.set_xlabel('Precio y cantidad', fontsize = 15)\n",
    "ax.set_ylabel('Duración del proceso', fontsize = 15)\n",
    "ax.set_title('2 component PCA', fontsize = 20)\n",
    "targets = ['complete', ]\n",
    "colors = [ 'g',]\n",
    "for target, color in zip(targets,colors):\n",
    "    indicesToKeep = finalDf['target'] == target\n",
    "    ax.scatter(finalDf.loc[indicesToKeep, 'Precio y cantidad']\n",
    "               , finalDf.loc[indicesToKeep, 'Duración del proceso']\n",
    "               , c = color\n",
    "               , s = 10)\n",
    "ax.legend(targets)\n",
    "ax.grid()"
   ]
  },
  {
   "cell_type": "code",
   "execution_count": 72,
   "metadata": {},
   "outputs": [
    {
     "data": {
      "image/png": "[encoded data removed]",
      "text/plain": [
       "<Figure size 1152x576 with 3 Axes>"
      ]
     },
     "metadata": {
      "needs_background": "light"
     },
     "output_type": "display_data"
    }
   ],
   "source": [
    "fig, (vax, hax, fax) = plt.subplots(1, 3, figsize=(16, 8))\n",
    "\n",
    "# ploteo los puntos de los procesos cancelados en el nuevo par de ejes\n",
    "vax.set_xlabel('Precio y cantidad', fontsize = 15)\n",
    "vax.set_ylabel('Duración del proceso', fontsize = 15)\n",
    "vax.set_title('Licitaciones públicas canceladas', fontsize = 15)\n",
    "vax.set_xlim(-2,7)\n",
    "vax.set_ylim(-4,6)\n",
    "\n",
    "targets = ['cancelled']\n",
    "colors = [ 'r']\n",
    "for target, color in zip(targets,colors):\n",
    "    indicesToKeep = finalDf['target'] == target\n",
    "    vax.scatter(finalDf.loc[indicesToKeep, 'Precio y cantidad']\n",
    "               , finalDf.loc[indicesToKeep, 'Duración del proceso']\n",
    "               , c = color\n",
    "               , s = 15)\n",
    "\n",
    "vax.legend(targets)\n",
    "vax.grid()\n",
    "\n",
    "# ploteo los puntos de los procesos completos en el nuevo par de ejes\n",
    "hax.set_xlabel('Precio y cantidad', fontsize = 15)\n",
    "hax.set_ylabel('Duración del proceso', fontsize = 15)\n",
    "hax.set_title('Licitaciones públicas completas', fontsize = 15)\n",
    "hax.set_xlim(-2,7)\n",
    "hax.set_ylim(-4,6)\n",
    "\n",
    "targets = ['complete']\n",
    "colors = [ 'g']\n",
    "for target, color in zip(targets,colors):\n",
    "    indicesToKeep = finalDf['target'] == target\n",
    "    hax.scatter(finalDf.loc[indicesToKeep, 'Precio y cantidad']\n",
    "               , finalDf.loc[indicesToKeep, 'Duración del proceso']\n",
    "               , c = color\n",
    "               , s = 15\n",
    "               , )\n",
    "hax.legend(targets)\n",
    "hax.grid()\n",
    "\n",
    "# ploteo los puntos de los procesos no exitosos en el nuevo par de ejes\n",
    "fax.set_xlabel('Precio y cantidad', fontsize = 15)\n",
    "fax.set_ylabel('Duración del proceso', fontsize = 15)\n",
    "fax.set_title('Licitaciones públicas desiertas', fontsize = 15)\n",
    "fax.set_xlim(-2,7)\n",
    "fax.set_ylim(-4,6)\n",
    "\n",
    "targets = ['unsuccessful']\n",
    "colors = [ 'y']\n",
    "for target, color in zip(targets,colors):\n",
    "    indicesToKeep = finalDf['target'] == target\n",
    "    fax.scatter(finalDf.loc[indicesToKeep, 'Precio y cantidad']\n",
    "               , finalDf.loc[indicesToKeep, 'Duración del proceso']\n",
    "               , c = color\n",
    "               , s = 15)\n",
    "fax.legend(targets)\n",
    "fax.grid()"
   ]
  },
  {
   "cell_type": "code",
   "execution_count": null,
   "metadata": {},
   "outputs": [],
   "source": []
  },
  {
   "cell_type": "code",
   "execution_count": null,
   "metadata": {},
   "outputs": [],
   "source": []
  }
 ],
 "metadata": {
  "kernelspec": {
   "display_name": "Python 3",
   "language": "python",
   "name": "python3"
  },
  "language_info": {
   "codemirror_mode": {
    "name": "ipython",
    "version": 3
   },
   "file_extension": ".py",
   "mimetype": "text/x-python",
   "name": "python",
   "nbconvert_exporter": "python",
   "pygments_lexer": "ipython3",
   "version": "3.7.3"
  }
 },
 "nbformat": 4,
 "nbformat_minor": 2
}
