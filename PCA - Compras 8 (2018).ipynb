{
 "cells": [
  {
   "cell_type": "code",
   "execution_count": 2,
   "metadata": {},
   "outputs": [],
   "source": [
    "import pandas as pd"
   ]
  },
  {
   "cell_type": "code",
   "execution_count": 3,
   "metadata": {},
   "outputs": [],
   "source": [
    "import numpy as np"
   ]
  },
  {
   "cell_type": "code",
   "execution_count": 4,
   "metadata": {},
   "outputs": [],
   "source": [
    "from sklearn.decomposition import PCA\n",
    "from sklearn.preprocessing import StandardScaler"
   ]
  },
  {
   "cell_type": "code",
   "execution_count": 10,
   "metadata": {},
   "outputs": [],
   "source": [
    "import seaborn as sns"
   ]
  },
  {
   "cell_type": "code",
   "execution_count": 40,
   "metadata": {},
   "outputs": [],
   "source": [
    "bac2018_lp_muestra2=pd.read_csv('bac2018_lp_muestra2.csv')"
   ]
  },
  {
   "cell_type": "code",
   "execution_count": 41,
   "metadata": {},
   "outputs": [],
   "source": [
    "bac2018_lp_muestra1=pd.read_csv('bac2018_lp_muestra1.csv')"
   ]
  },
  {
   "cell_type": "code",
   "execution_count": 42,
   "metadata": {},
   "outputs": [
    {
     "data": {
      "text/html": [
       "<div>\n",
       "<style scoped>\n",
       "    .dataframe tbody tr th:only-of-type {\n",
       "        vertical-align: middle;\n",
       "    }\n",
       "\n",
       "    .dataframe tbody tr th {\n",
       "        vertical-align: top;\n",
       "    }\n",
       "\n",
       "    .dataframe thead th {\n",
       "        text-align: right;\n",
       "    }\n",
       "</style>\n",
       "<table border=\"1\" class=\"dataframe\">\n",
       "  <thead>\n",
       "    <tr style=\"text-align: right;\">\n",
       "      <th></th>\n",
       "      <th>ocid</th>\n",
       "      <th>year</th>\n",
       "      <th>tender/status</th>\n",
       "      <th>tender/procurementMethod</th>\n",
       "      <th>tender/value/amount</th>\n",
       "      <th>tender/tenderPeriod/durationInDays</th>\n",
       "      <th>tender/items/0/quantity</th>\n",
       "      <th>outliers_value_amount</th>\n",
       "      <th>outliers_duration</th>\n",
       "      <th>outliers_cantidad</th>\n",
       "    </tr>\n",
       "  </thead>\n",
       "  <tbody>\n",
       "    <tr>\n",
       "      <th>0</th>\n",
       "      <td>ocds-bulbcf-101-0311-LPU18</td>\n",
       "      <td>2018</td>\n",
       "      <td>complete</td>\n",
       "      <td>open</td>\n",
       "      <td>7.200000e+06</td>\n",
       "      <td>6.0</td>\n",
       "      <td>1.0</td>\n",
       "      <td>5.855357</td>\n",
       "      <td>0.666667</td>\n",
       "      <td>1.000000</td>\n",
       "    </tr>\n",
       "    <tr>\n",
       "      <th>1</th>\n",
       "      <td>ocds-bulbcf-101-0629-LPU18</td>\n",
       "      <td>2018</td>\n",
       "      <td>complete</td>\n",
       "      <td>open</td>\n",
       "      <td>1.780000e+07</td>\n",
       "      <td>9.0</td>\n",
       "      <td>1.0</td>\n",
       "      <td>16.148104</td>\n",
       "      <td>0.333333</td>\n",
       "      <td>1.000000</td>\n",
       "    </tr>\n",
       "    <tr>\n",
       "      <th>2</th>\n",
       "      <td>ocds-bulbcf-101-0880-LPU18</td>\n",
       "      <td>2018</td>\n",
       "      <td>complete</td>\n",
       "      <td>open</td>\n",
       "      <td>9.979200e+06</td>\n",
       "      <td>12.0</td>\n",
       "      <td>9072.0</td>\n",
       "      <td>8.553999</td>\n",
       "      <td>1.333333</td>\n",
       "      <td>26.404834</td>\n",
       "    </tr>\n",
       "    <tr>\n",
       "      <th>3</th>\n",
       "      <td>ocds-bulbcf-101-1001-LPU18</td>\n",
       "      <td>2018</td>\n",
       "      <td>complete</td>\n",
       "      <td>open</td>\n",
       "      <td>3.563852e+06</td>\n",
       "      <td>12.0</td>\n",
       "      <td>55.0</td>\n",
       "      <td>2.324607</td>\n",
       "      <td>1.333333</td>\n",
       "      <td>0.836858</td>\n",
       "    </tr>\n",
       "    <tr>\n",
       "      <th>4</th>\n",
       "      <td>ocds-bulbcf-101-1002-LPU18</td>\n",
       "      <td>2018</td>\n",
       "      <td>complete</td>\n",
       "      <td>open</td>\n",
       "      <td>1.744380e+06</td>\n",
       "      <td>6.0</td>\n",
       "      <td>96.0</td>\n",
       "      <td>0.557875</td>\n",
       "      <td>0.666667</td>\n",
       "      <td>0.712991</td>\n",
       "    </tr>\n",
       "    <tr>\n",
       "      <th>5</th>\n",
       "      <td>ocds-bulbcf-101-1077-LPU18</td>\n",
       "      <td>2018</td>\n",
       "      <td>complete</td>\n",
       "      <td>open</td>\n",
       "      <td>7.855000e+06</td>\n",
       "      <td>11.0</td>\n",
       "      <td>365.0</td>\n",
       "      <td>6.491371</td>\n",
       "      <td>1.000000</td>\n",
       "      <td>0.099698</td>\n",
       "    </tr>\n",
       "    <tr>\n",
       "      <th>6</th>\n",
       "      <td>ocds-bulbcf-101-1135-LPU18</td>\n",
       "      <td>2018</td>\n",
       "      <td>complete</td>\n",
       "      <td>open</td>\n",
       "      <td>2.283000e+06</td>\n",
       "      <td>7.0</td>\n",
       "      <td>12.0</td>\n",
       "      <td>1.080883</td>\n",
       "      <td>0.333333</td>\n",
       "      <td>0.966767</td>\n",
       "    </tr>\n",
       "    <tr>\n",
       "      <th>7</th>\n",
       "      <td>ocds-bulbcf-101-1597-LPU18</td>\n",
       "      <td>2018</td>\n",
       "      <td>complete</td>\n",
       "      <td>open</td>\n",
       "      <td>2.400000e+07</td>\n",
       "      <td>12.0</td>\n",
       "      <td>1.0</td>\n",
       "      <td>22.168389</td>\n",
       "      <td>1.333333</td>\n",
       "      <td>1.000000</td>\n",
       "    </tr>\n",
       "    <tr>\n",
       "      <th>8</th>\n",
       "      <td>ocds-bulbcf-101-1607-LPU18</td>\n",
       "      <td>2018</td>\n",
       "      <td>complete</td>\n",
       "      <td>open</td>\n",
       "      <td>1.158462e+07</td>\n",
       "      <td>11.0</td>\n",
       "      <td>8019713.0</td>\n",
       "      <td>10.112889</td>\n",
       "      <td>1.000000</td>\n",
       "      <td>24227.737160</td>\n",
       "    </tr>\n",
       "    <tr>\n",
       "      <th>9</th>\n",
       "      <td>ocds-bulbcf-101-1623-LPU18</td>\n",
       "      <td>2018</td>\n",
       "      <td>complete</td>\n",
       "      <td>open</td>\n",
       "      <td>4.200000e+07</td>\n",
       "      <td>14.0</td>\n",
       "      <td>1.0</td>\n",
       "      <td>39.646637</td>\n",
       "      <td>2.000000</td>\n",
       "      <td>1.000000</td>\n",
       "    </tr>\n",
       "    <tr>\n",
       "      <th>10</th>\n",
       "      <td>ocds-bulbcf-101-1660-LPU18</td>\n",
       "      <td>2018</td>\n",
       "      <td>complete</td>\n",
       "      <td>open</td>\n",
       "      <td>1.064400e+07</td>\n",
       "      <td>11.0</td>\n",
       "      <td>24.0</td>\n",
       "      <td>9.199529</td>\n",
       "      <td>1.000000</td>\n",
       "      <td>0.930514</td>\n",
       "    </tr>\n",
       "    <tr>\n",
       "      <th>11</th>\n",
       "      <td>ocds-bulbcf-101-1749-LPU18</td>\n",
       "      <td>2018</td>\n",
       "      <td>cancelled</td>\n",
       "      <td>open</td>\n",
       "      <td>4.080000e+06</td>\n",
       "      <td>10.0</td>\n",
       "      <td>24.0</td>\n",
       "      <td>2.825794</td>\n",
       "      <td>0.666667</td>\n",
       "      <td>0.930514</td>\n",
       "    </tr>\n",
       "    <tr>\n",
       "      <th>12</th>\n",
       "      <td>ocds-bulbcf-101-1776-LPU18</td>\n",
       "      <td>2018</td>\n",
       "      <td>complete</td>\n",
       "      <td>open</td>\n",
       "      <td>9.800000e+06</td>\n",
       "      <td>8.0</td>\n",
       "      <td>5.0</td>\n",
       "      <td>8.379993</td>\n",
       "      <td>0.000000</td>\n",
       "      <td>0.987915</td>\n",
       "    </tr>\n",
       "    <tr>\n",
       "      <th>13</th>\n",
       "      <td>ocds-bulbcf-112-0386-LPU18</td>\n",
       "      <td>2018</td>\n",
       "      <td>complete</td>\n",
       "      <td>open</td>\n",
       "      <td>1.600000e+06</td>\n",
       "      <td>1.0</td>\n",
       "      <td>1.0</td>\n",
       "      <td>0.417680</td>\n",
       "      <td>2.333333</td>\n",
       "      <td>1.000000</td>\n",
       "    </tr>\n",
       "    <tr>\n",
       "      <th>14</th>\n",
       "      <td>ocds-bulbcf-2051-0364-LPU18</td>\n",
       "      <td>2018</td>\n",
       "      <td>complete</td>\n",
       "      <td>open</td>\n",
       "      <td>3.000000e+06</td>\n",
       "      <td>7.0</td>\n",
       "      <td>1.0</td>\n",
       "      <td>1.777099</td>\n",
       "      <td>0.333333</td>\n",
       "      <td>1.000000</td>\n",
       "    </tr>\n",
       "    <tr>\n",
       "      <th>15</th>\n",
       "      <td>ocds-bulbcf-2051-0761-LPU18</td>\n",
       "      <td>2018</td>\n",
       "      <td>complete</td>\n",
       "      <td>open</td>\n",
       "      <td>1.654901e+06</td>\n",
       "      <td>6.0</td>\n",
       "      <td>263.0</td>\n",
       "      <td>0.470990</td>\n",
       "      <td>0.666667</td>\n",
       "      <td>0.208459</td>\n",
       "    </tr>\n",
       "    <tr>\n",
       "      <th>16</th>\n",
       "      <td>ocds-bulbcf-2051-0818-LPU18</td>\n",
       "      <td>2018</td>\n",
       "      <td>cancelled</td>\n",
       "      <td>open</td>\n",
       "      <td>2.535964e+07</td>\n",
       "      <td>59.0</td>\n",
       "      <td>72.0</td>\n",
       "      <td>23.488620</td>\n",
       "      <td>17.000000</td>\n",
       "      <td>0.785498</td>\n",
       "    </tr>\n",
       "    <tr>\n",
       "      <th>17</th>\n",
       "      <td>ocds-bulbcf-2051-0840-LPU18</td>\n",
       "      <td>2018</td>\n",
       "      <td>complete</td>\n",
       "      <td>open</td>\n",
       "      <td>1.411200e+07</td>\n",
       "      <td>8.0</td>\n",
       "      <td>1.0</td>\n",
       "      <td>12.567005</td>\n",
       "      <td>0.000000</td>\n",
       "      <td>1.000000</td>\n",
       "    </tr>\n",
       "    <tr>\n",
       "      <th>18</th>\n",
       "      <td>ocds-bulbcf-2051-0925-LPU18</td>\n",
       "      <td>2018</td>\n",
       "      <td>complete</td>\n",
       "      <td>open</td>\n",
       "      <td>1.266190e+07</td>\n",
       "      <td>19.0</td>\n",
       "      <td>10000.0</td>\n",
       "      <td>11.158938</td>\n",
       "      <td>3.666667</td>\n",
       "      <td>29.208459</td>\n",
       "    </tr>\n",
       "    <tr>\n",
       "      <th>19</th>\n",
       "      <td>ocds-bulbcf-2051-0963-LPU18</td>\n",
       "      <td>2018</td>\n",
       "      <td>complete</td>\n",
       "      <td>open</td>\n",
       "      <td>1.530000e+06</td>\n",
       "      <td>7.0</td>\n",
       "      <td>4.0</td>\n",
       "      <td>0.349709</td>\n",
       "      <td>0.333333</td>\n",
       "      <td>0.990937</td>\n",
       "    </tr>\n",
       "    <tr>\n",
       "      <th>20</th>\n",
       "      <td>ocds-bulbcf-2051-0984-LPU18</td>\n",
       "      <td>2018</td>\n",
       "      <td>complete</td>\n",
       "      <td>open</td>\n",
       "      <td>5.037223e+06</td>\n",
       "      <td>11.0</td>\n",
       "      <td>423.0</td>\n",
       "      <td>3.755271</td>\n",
       "      <td>1.000000</td>\n",
       "      <td>0.274924</td>\n",
       "    </tr>\n",
       "    <tr>\n",
       "      <th>21</th>\n",
       "      <td>ocds-bulbcf-2051-1018-LPU18</td>\n",
       "      <td>2018</td>\n",
       "      <td>cancelled</td>\n",
       "      <td>open</td>\n",
       "      <td>3.615410e+06</td>\n",
       "      <td>11.0</td>\n",
       "      <td>443.0</td>\n",
       "      <td>2.374671</td>\n",
       "      <td>1.000000</td>\n",
       "      <td>0.335347</td>\n",
       "    </tr>\n",
       "    <tr>\n",
       "      <th>22</th>\n",
       "      <td>ocds-bulbcf-2051-1048-LPU18</td>\n",
       "      <td>2018</td>\n",
       "      <td>cancelled</td>\n",
       "      <td>open</td>\n",
       "      <td>3.458232e+07</td>\n",
       "      <td>25.0</td>\n",
       "      <td>18.0</td>\n",
       "      <td>32.443968</td>\n",
       "      <td>5.666667</td>\n",
       "      <td>0.948640</td>\n",
       "    </tr>\n",
       "    <tr>\n",
       "      <th>23</th>\n",
       "      <td>ocds-bulbcf-2051-1070-LPU18</td>\n",
       "      <td>2018</td>\n",
       "      <td>complete</td>\n",
       "      <td>open</td>\n",
       "      <td>2.800000e+06</td>\n",
       "      <td>7.0</td>\n",
       "      <td>1.0</td>\n",
       "      <td>1.582897</td>\n",
       "      <td>0.333333</td>\n",
       "      <td>1.000000</td>\n",
       "    </tr>\n",
       "    <tr>\n",
       "      <th>24</th>\n",
       "      <td>ocds-bulbcf-2051-1188-LPU18</td>\n",
       "      <td>2018</td>\n",
       "      <td>complete</td>\n",
       "      <td>open</td>\n",
       "      <td>3.615410e+06</td>\n",
       "      <td>7.0</td>\n",
       "      <td>443.0</td>\n",
       "      <td>2.374671</td>\n",
       "      <td>0.333333</td>\n",
       "      <td>0.335347</td>\n",
       "    </tr>\n",
       "    <tr>\n",
       "      <th>25</th>\n",
       "      <td>ocds-bulbcf-2051-1207-LPU18</td>\n",
       "      <td>2018</td>\n",
       "      <td>complete</td>\n",
       "      <td>open</td>\n",
       "      <td>2.400000e+06</td>\n",
       "      <td>14.0</td>\n",
       "      <td>49.0</td>\n",
       "      <td>1.194491</td>\n",
       "      <td>2.000000</td>\n",
       "      <td>0.854985</td>\n",
       "    </tr>\n",
       "    <tr>\n",
       "      <th>26</th>\n",
       "      <td>ocds-bulbcf-2051-1404-LPU18</td>\n",
       "      <td>2018</td>\n",
       "      <td>complete</td>\n",
       "      <td>open</td>\n",
       "      <td>3.400000e+06</td>\n",
       "      <td>8.0</td>\n",
       "      <td>5.0</td>\n",
       "      <td>2.165505</td>\n",
       "      <td>0.000000</td>\n",
       "      <td>0.987915</td>\n",
       "    </tr>\n",
       "    <tr>\n",
       "      <th>27</th>\n",
       "      <td>ocds-bulbcf-2051-1564-LPU18</td>\n",
       "      <td>2018</td>\n",
       "      <td>complete</td>\n",
       "      <td>open</td>\n",
       "      <td>1.100000e+07</td>\n",
       "      <td>38.0</td>\n",
       "      <td>1.0</td>\n",
       "      <td>9.545210</td>\n",
       "      <td>10.000000</td>\n",
       "      <td>1.000000</td>\n",
       "    </tr>\n",
       "    <tr>\n",
       "      <th>28</th>\n",
       "      <td>ocds-bulbcf-2051-1580-LPU18</td>\n",
       "      <td>2018</td>\n",
       "      <td>cancelled</td>\n",
       "      <td>open</td>\n",
       "      <td>3.000001e+06</td>\n",
       "      <td>10.0</td>\n",
       "      <td>2280.0</td>\n",
       "      <td>1.777101</td>\n",
       "      <td>0.666667</td>\n",
       "      <td>5.885196</td>\n",
       "    </tr>\n",
       "    <tr>\n",
       "      <th>29</th>\n",
       "      <td>ocds-bulbcf-2051-1590-LPU18</td>\n",
       "      <td>2018</td>\n",
       "      <td>complete</td>\n",
       "      <td>open</td>\n",
       "      <td>4.998000e+06</td>\n",
       "      <td>12.0</td>\n",
       "      <td>6000.0</td>\n",
       "      <td>3.717185</td>\n",
       "      <td>1.333333</td>\n",
       "      <td>17.123867</td>\n",
       "    </tr>\n",
       "    <tr>\n",
       "      <th>...</th>\n",
       "      <td>...</td>\n",
       "      <td>...</td>\n",
       "      <td>...</td>\n",
       "      <td>...</td>\n",
       "      <td>...</td>\n",
       "      <td>...</td>\n",
       "      <td>...</td>\n",
       "      <td>...</td>\n",
       "      <td>...</td>\n",
       "      <td>...</td>\n",
       "    </tr>\n",
       "    <tr>\n",
       "      <th>661</th>\n",
       "      <td>ocds-bulbcf-8933-0679-LPU18</td>\n",
       "      <td>2018</td>\n",
       "      <td>complete</td>\n",
       "      <td>open</td>\n",
       "      <td>5.172502e+06</td>\n",
       "      <td>9.0</td>\n",
       "      <td>63.0</td>\n",
       "      <td>3.886629</td>\n",
       "      <td>0.333333</td>\n",
       "      <td>0.812689</td>\n",
       "    </tr>\n",
       "    <tr>\n",
       "      <th>662</th>\n",
       "      <td>ocds-bulbcf-8933-0776-LPU18</td>\n",
       "      <td>2018</td>\n",
       "      <td>complete</td>\n",
       "      <td>open</td>\n",
       "      <td>1.800000e+06</td>\n",
       "      <td>4.0</td>\n",
       "      <td>12.0</td>\n",
       "      <td>0.611883</td>\n",
       "      <td>1.333333</td>\n",
       "      <td>0.966767</td>\n",
       "    </tr>\n",
       "    <tr>\n",
       "      <th>663</th>\n",
       "      <td>ocds-bulbcf-8933-0785-LPU18</td>\n",
       "      <td>2018</td>\n",
       "      <td>complete</td>\n",
       "      <td>open</td>\n",
       "      <td>1.491516e+06</td>\n",
       "      <td>3.0</td>\n",
       "      <td>12.0</td>\n",
       "      <td>0.312341</td>\n",
       "      <td>1.666667</td>\n",
       "      <td>0.966767</td>\n",
       "    </tr>\n",
       "    <tr>\n",
       "      <th>664</th>\n",
       "      <td>ocds-bulbcf-8933-0897-LPU18</td>\n",
       "      <td>2018</td>\n",
       "      <td>complete</td>\n",
       "      <td>open</td>\n",
       "      <td>4.356470e+06</td>\n",
       "      <td>7.0</td>\n",
       "      <td>37058.0</td>\n",
       "      <td>3.094250</td>\n",
       "      <td>0.333333</td>\n",
       "      <td>110.954683</td>\n",
       "    </tr>\n",
       "    <tr>\n",
       "      <th>665</th>\n",
       "      <td>ocds-bulbcf-8933-1063-LPU18</td>\n",
       "      <td>2018</td>\n",
       "      <td>complete</td>\n",
       "      <td>open</td>\n",
       "      <td>1.675379e+06</td>\n",
       "      <td>7.0</td>\n",
       "      <td>12595.0</td>\n",
       "      <td>0.490874</td>\n",
       "      <td>0.333333</td>\n",
       "      <td>37.048338</td>\n",
       "    </tr>\n",
       "    <tr>\n",
       "      <th>666</th>\n",
       "      <td>ocds-bulbcf-8933-1087-LPU18</td>\n",
       "      <td>2018</td>\n",
       "      <td>complete</td>\n",
       "      <td>open</td>\n",
       "      <td>2.735000e+06</td>\n",
       "      <td>9.0</td>\n",
       "      <td>13.0</td>\n",
       "      <td>1.519781</td>\n",
       "      <td>0.333333</td>\n",
       "      <td>0.963746</td>\n",
       "    </tr>\n",
       "    <tr>\n",
       "      <th>667</th>\n",
       "      <td>ocds-bulbcf-8933-1119-LPU18</td>\n",
       "      <td>2018</td>\n",
       "      <td>complete</td>\n",
       "      <td>open</td>\n",
       "      <td>1.955980e+06</td>\n",
       "      <td>12.0</td>\n",
       "      <td>20.0</td>\n",
       "      <td>0.763342</td>\n",
       "      <td>1.333333</td>\n",
       "      <td>0.942598</td>\n",
       "    </tr>\n",
       "    <tr>\n",
       "      <th>668</th>\n",
       "      <td>ocds-bulbcf-8933-1138-LPU18</td>\n",
       "      <td>2018</td>\n",
       "      <td>complete</td>\n",
       "      <td>open</td>\n",
       "      <td>2.880000e+06</td>\n",
       "      <td>12.0</td>\n",
       "      <td>24.0</td>\n",
       "      <td>1.660578</td>\n",
       "      <td>1.333333</td>\n",
       "      <td>0.930514</td>\n",
       "    </tr>\n",
       "    <tr>\n",
       "      <th>669</th>\n",
       "      <td>ocds-bulbcf-8933-1171-LPU18</td>\n",
       "      <td>2018</td>\n",
       "      <td>complete</td>\n",
       "      <td>open</td>\n",
       "      <td>3.805443e+06</td>\n",
       "      <td>9.0</td>\n",
       "      <td>519.0</td>\n",
       "      <td>2.559196</td>\n",
       "      <td>0.333333</td>\n",
       "      <td>0.564955</td>\n",
       "    </tr>\n",
       "    <tr>\n",
       "      <th>670</th>\n",
       "      <td>ocds-bulbcf-8933-1261-LPU18</td>\n",
       "      <td>2018</td>\n",
       "      <td>complete</td>\n",
       "      <td>open</td>\n",
       "      <td>3.383870e+06</td>\n",
       "      <td>7.0</td>\n",
       "      <td>7209.0</td>\n",
       "      <td>2.149843</td>\n",
       "      <td>0.333333</td>\n",
       "      <td>20.776435</td>\n",
       "    </tr>\n",
       "    <tr>\n",
       "      <th>671</th>\n",
       "      <td>ocds-bulbcf-8933-1556-LPU18</td>\n",
       "      <td>2018</td>\n",
       "      <td>complete</td>\n",
       "      <td>open</td>\n",
       "      <td>2.835000e+06</td>\n",
       "      <td>12.0</td>\n",
       "      <td>1.0</td>\n",
       "      <td>1.616882</td>\n",
       "      <td>1.333333</td>\n",
       "      <td>1.000000</td>\n",
       "    </tr>\n",
       "    <tr>\n",
       "      <th>672</th>\n",
       "      <td>ocds-bulbcf-8933-1604-LPU18</td>\n",
       "      <td>2018</td>\n",
       "      <td>complete</td>\n",
       "      <td>open</td>\n",
       "      <td>2.419900e+06</td>\n",
       "      <td>17.0</td>\n",
       "      <td>700.0</td>\n",
       "      <td>1.213814</td>\n",
       "      <td>3.000000</td>\n",
       "      <td>1.111782</td>\n",
       "    </tr>\n",
       "    <tr>\n",
       "      <th>673</th>\n",
       "      <td>ocds-bulbcf-9266-0895-LPU18</td>\n",
       "      <td>2018</td>\n",
       "      <td>complete</td>\n",
       "      <td>open</td>\n",
       "      <td>1.420000e+06</td>\n",
       "      <td>7.0</td>\n",
       "      <td>2.0</td>\n",
       "      <td>0.242898</td>\n",
       "      <td>0.333333</td>\n",
       "      <td>0.996979</td>\n",
       "    </tr>\n",
       "    <tr>\n",
       "      <th>674</th>\n",
       "      <td>ocds-bulbcf-9266-1865-LPU18</td>\n",
       "      <td>2018</td>\n",
       "      <td>complete</td>\n",
       "      <td>open</td>\n",
       "      <td>1.800000e+06</td>\n",
       "      <td>9.0</td>\n",
       "      <td>1.0</td>\n",
       "      <td>0.611883</td>\n",
       "      <td>0.333333</td>\n",
       "      <td>1.000000</td>\n",
       "    </tr>\n",
       "    <tr>\n",
       "      <th>675</th>\n",
       "      <td>ocds-bulbcf-9268-0697-LPU18</td>\n",
       "      <td>2018</td>\n",
       "      <td>complete</td>\n",
       "      <td>open</td>\n",
       "      <td>2.000000e+06</td>\n",
       "      <td>7.0</td>\n",
       "      <td>2.0</td>\n",
       "      <td>0.806086</td>\n",
       "      <td>0.333333</td>\n",
       "      <td>0.996979</td>\n",
       "    </tr>\n",
       "    <tr>\n",
       "      <th>676</th>\n",
       "      <td>ocds-bulbcf-9510-0064-LPU18</td>\n",
       "      <td>2018</td>\n",
       "      <td>complete</td>\n",
       "      <td>open</td>\n",
       "      <td>1.200000e+07</td>\n",
       "      <td>27.0</td>\n",
       "      <td>12.0</td>\n",
       "      <td>10.516224</td>\n",
       "      <td>6.333333</td>\n",
       "      <td>0.966767</td>\n",
       "    </tr>\n",
       "    <tr>\n",
       "      <th>677</th>\n",
       "      <td>ocds-bulbcf-9510-0523-LPU18</td>\n",
       "      <td>2018</td>\n",
       "      <td>complete</td>\n",
       "      <td>open</td>\n",
       "      <td>4.400000e+06</td>\n",
       "      <td>9.0</td>\n",
       "      <td>3.0</td>\n",
       "      <td>3.136519</td>\n",
       "      <td>0.333333</td>\n",
       "      <td>0.993958</td>\n",
       "    </tr>\n",
       "    <tr>\n",
       "      <th>678</th>\n",
       "      <td>ocds-bulbcf-9511-1254-LPU18</td>\n",
       "      <td>2018</td>\n",
       "      <td>cancelled</td>\n",
       "      <td>open</td>\n",
       "      <td>1.341648e+06</td>\n",
       "      <td>10.0</td>\n",
       "      <td>1.0</td>\n",
       "      <td>0.166817</td>\n",
       "      <td>0.666667</td>\n",
       "      <td>1.000000</td>\n",
       "    </tr>\n",
       "    <tr>\n",
       "      <th>679</th>\n",
       "      <td>ocds-bulbcf-9511-1475-LPU18</td>\n",
       "      <td>2018</td>\n",
       "      <td>complete</td>\n",
       "      <td>open</td>\n",
       "      <td>5.080803e+06</td>\n",
       "      <td>13.0</td>\n",
       "      <td>13.0</td>\n",
       "      <td>3.797588</td>\n",
       "      <td>1.666667</td>\n",
       "      <td>0.963746</td>\n",
       "    </tr>\n",
       "    <tr>\n",
       "      <th>680</th>\n",
       "      <td>ocds-bulbcf-9511-1605-LPU18</td>\n",
       "      <td>2018</td>\n",
       "      <td>complete</td>\n",
       "      <td>open</td>\n",
       "      <td>1.877200e+06</td>\n",
       "      <td>11.0</td>\n",
       "      <td>1.0</td>\n",
       "      <td>0.686845</td>\n",
       "      <td>1.000000</td>\n",
       "      <td>1.000000</td>\n",
       "    </tr>\n",
       "    <tr>\n",
       "      <th>681</th>\n",
       "      <td>ocds-bulbcf-9511-1653-LPU18</td>\n",
       "      <td>2018</td>\n",
       "      <td>complete</td>\n",
       "      <td>open</td>\n",
       "      <td>3.533200e+06</td>\n",
       "      <td>12.0</td>\n",
       "      <td>181.0</td>\n",
       "      <td>2.294844</td>\n",
       "      <td>1.333333</td>\n",
       "      <td>0.456193</td>\n",
       "    </tr>\n",
       "    <tr>\n",
       "      <th>682</th>\n",
       "      <td>ocds-bulbcf-9611-0202-LPU18</td>\n",
       "      <td>2018</td>\n",
       "      <td>complete</td>\n",
       "      <td>open</td>\n",
       "      <td>2.796000e+06</td>\n",
       "      <td>14.0</td>\n",
       "      <td>12.0</td>\n",
       "      <td>1.579013</td>\n",
       "      <td>2.000000</td>\n",
       "      <td>0.966767</td>\n",
       "    </tr>\n",
       "    <tr>\n",
       "      <th>683</th>\n",
       "      <td>ocds-bulbcf-9611-0240-LPU18</td>\n",
       "      <td>2018</td>\n",
       "      <td>complete</td>\n",
       "      <td>open</td>\n",
       "      <td>2.000000e+07</td>\n",
       "      <td>6.0</td>\n",
       "      <td>1.0</td>\n",
       "      <td>18.284334</td>\n",
       "      <td>0.666667</td>\n",
       "      <td>1.000000</td>\n",
       "    </tr>\n",
       "    <tr>\n",
       "      <th>684</th>\n",
       "      <td>ocds-bulbcf-9611-1469-LPU18</td>\n",
       "      <td>2018</td>\n",
       "      <td>complete</td>\n",
       "      <td>open</td>\n",
       "      <td>5.558680e+06</td>\n",
       "      <td>5.0</td>\n",
       "      <td>3.0</td>\n",
       "      <td>4.261613</td>\n",
       "      <td>1.000000</td>\n",
       "      <td>0.993958</td>\n",
       "    </tr>\n",
       "    <tr>\n",
       "      <th>685</th>\n",
       "      <td>ocds-bulbcf-9611-1723-LPU18</td>\n",
       "      <td>2018</td>\n",
       "      <td>cancelled</td>\n",
       "      <td>open</td>\n",
       "      <td>2.350000e+06</td>\n",
       "      <td>5.0</td>\n",
       "      <td>1.0</td>\n",
       "      <td>1.145940</td>\n",
       "      <td>1.000000</td>\n",
       "      <td>1.000000</td>\n",
       "    </tr>\n",
       "    <tr>\n",
       "      <th>686</th>\n",
       "      <td>ocds-bulbcf-9611-1852-LPU18</td>\n",
       "      <td>2018</td>\n",
       "      <td>complete</td>\n",
       "      <td>open</td>\n",
       "      <td>1.608000e+06</td>\n",
       "      <td>3.0</td>\n",
       "      <td>12.0</td>\n",
       "      <td>0.425448</td>\n",
       "      <td>1.666667</td>\n",
       "      <td>0.966767</td>\n",
       "    </tr>\n",
       "    <tr>\n",
       "      <th>687</th>\n",
       "      <td>ocds-bulbcf-9763-1619-LPU18</td>\n",
       "      <td>2018</td>\n",
       "      <td>complete</td>\n",
       "      <td>open</td>\n",
       "      <td>2.100000e+06</td>\n",
       "      <td>11.0</td>\n",
       "      <td>4.0</td>\n",
       "      <td>0.903187</td>\n",
       "      <td>1.000000</td>\n",
       "      <td>0.990937</td>\n",
       "    </tr>\n",
       "    <tr>\n",
       "      <th>688</th>\n",
       "      <td>ocds-bulbcf-9982-0479-LPU18</td>\n",
       "      <td>2018</td>\n",
       "      <td>cancelled</td>\n",
       "      <td>open</td>\n",
       "      <td>6.500000e+08</td>\n",
       "      <td>14.0</td>\n",
       "      <td>9.0</td>\n",
       "      <td>630.023023</td>\n",
       "      <td>2.000000</td>\n",
       "      <td>0.975831</td>\n",
       "    </tr>\n",
       "    <tr>\n",
       "      <th>689</th>\n",
       "      <td>ocds-bulbcf-9982-1085-LPU18</td>\n",
       "      <td>2018</td>\n",
       "      <td>cancelled</td>\n",
       "      <td>open</td>\n",
       "      <td>1.366200e+06</td>\n",
       "      <td>5.0</td>\n",
       "      <td>6600.0</td>\n",
       "      <td>0.190657</td>\n",
       "      <td>1.000000</td>\n",
       "      <td>18.936556</td>\n",
       "    </tr>\n",
       "    <tr>\n",
       "      <th>690</th>\n",
       "      <td>ocds-bulbcf-9982-1837-LPU17</td>\n",
       "      <td>2018</td>\n",
       "      <td>cancelled</td>\n",
       "      <td>open</td>\n",
       "      <td>4.789075e+08</td>\n",
       "      <td>61.0</td>\n",
       "      <td>4.0</td>\n",
       "      <td>463.889852</td>\n",
       "      <td>17.666667</td>\n",
       "      <td>0.990937</td>\n",
       "    </tr>\n",
       "  </tbody>\n",
       "</table>\n",
       "<p>691 rows × 10 columns</p>\n",
       "</div>"
      ],
      "text/plain": [
       "                            ocid  year tender/status tender/procurementMethod  \\\n",
       "0     ocds-bulbcf-101-0311-LPU18  2018      complete                     open   \n",
       "1     ocds-bulbcf-101-0629-LPU18  2018      complete                     open   \n",
       "2     ocds-bulbcf-101-0880-LPU18  2018      complete                     open   \n",
       "3     ocds-bulbcf-101-1001-LPU18  2018      complete                     open   \n",
       "4     ocds-bulbcf-101-1002-LPU18  2018      complete                     open   \n",
       "5     ocds-bulbcf-101-1077-LPU18  2018      complete                     open   \n",
       "6     ocds-bulbcf-101-1135-LPU18  2018      complete                     open   \n",
       "7     ocds-bulbcf-101-1597-LPU18  2018      complete                     open   \n",
       "8     ocds-bulbcf-101-1607-LPU18  2018      complete                     open   \n",
       "9     ocds-bulbcf-101-1623-LPU18  2018      complete                     open   \n",
       "10    ocds-bulbcf-101-1660-LPU18  2018      complete                     open   \n",
       "11    ocds-bulbcf-101-1749-LPU18  2018     cancelled                     open   \n",
       "12    ocds-bulbcf-101-1776-LPU18  2018      complete                     open   \n",
       "13    ocds-bulbcf-112-0386-LPU18  2018      complete                     open   \n",
       "14   ocds-bulbcf-2051-0364-LPU18  2018      complete                     open   \n",
       "15   ocds-bulbcf-2051-0761-LPU18  2018      complete                     open   \n",
       "16   ocds-bulbcf-2051-0818-LPU18  2018     cancelled                     open   \n",
       "17   ocds-bulbcf-2051-0840-LPU18  2018      complete                     open   \n",
       "18   ocds-bulbcf-2051-0925-LPU18  2018      complete                     open   \n",
       "19   ocds-bulbcf-2051-0963-LPU18  2018      complete                     open   \n",
       "20   ocds-bulbcf-2051-0984-LPU18  2018      complete                     open   \n",
       "21   ocds-bulbcf-2051-1018-LPU18  2018     cancelled                     open   \n",
       "22   ocds-bulbcf-2051-1048-LPU18  2018     cancelled                     open   \n",
       "23   ocds-bulbcf-2051-1070-LPU18  2018      complete                     open   \n",
       "24   ocds-bulbcf-2051-1188-LPU18  2018      complete                     open   \n",
       "25   ocds-bulbcf-2051-1207-LPU18  2018      complete                     open   \n",
       "26   ocds-bulbcf-2051-1404-LPU18  2018      complete                     open   \n",
       "27   ocds-bulbcf-2051-1564-LPU18  2018      complete                     open   \n",
       "28   ocds-bulbcf-2051-1580-LPU18  2018     cancelled                     open   \n",
       "29   ocds-bulbcf-2051-1590-LPU18  2018      complete                     open   \n",
       "..                           ...   ...           ...                      ...   \n",
       "661  ocds-bulbcf-8933-0679-LPU18  2018      complete                     open   \n",
       "662  ocds-bulbcf-8933-0776-LPU18  2018      complete                     open   \n",
       "663  ocds-bulbcf-8933-0785-LPU18  2018      complete                     open   \n",
       "664  ocds-bulbcf-8933-0897-LPU18  2018      complete                     open   \n",
       "665  ocds-bulbcf-8933-1063-LPU18  2018      complete                     open   \n",
       "666  ocds-bulbcf-8933-1087-LPU18  2018      complete                     open   \n",
       "667  ocds-bulbcf-8933-1119-LPU18  2018      complete                     open   \n",
       "668  ocds-bulbcf-8933-1138-LPU18  2018      complete                     open   \n",
       "669  ocds-bulbcf-8933-1171-LPU18  2018      complete                     open   \n",
       "670  ocds-bulbcf-8933-1261-LPU18  2018      complete                     open   \n",
       "671  ocds-bulbcf-8933-1556-LPU18  2018      complete                     open   \n",
       "672  ocds-bulbcf-8933-1604-LPU18  2018      complete                     open   \n",
       "673  ocds-bulbcf-9266-0895-LPU18  2018      complete                     open   \n",
       "674  ocds-bulbcf-9266-1865-LPU18  2018      complete                     open   \n",
       "675  ocds-bulbcf-9268-0697-LPU18  2018      complete                     open   \n",
       "676  ocds-bulbcf-9510-0064-LPU18  2018      complete                     open   \n",
       "677  ocds-bulbcf-9510-0523-LPU18  2018      complete                     open   \n",
       "678  ocds-bulbcf-9511-1254-LPU18  2018     cancelled                     open   \n",
       "679  ocds-bulbcf-9511-1475-LPU18  2018      complete                     open   \n",
       "680  ocds-bulbcf-9511-1605-LPU18  2018      complete                     open   \n",
       "681  ocds-bulbcf-9511-1653-LPU18  2018      complete                     open   \n",
       "682  ocds-bulbcf-9611-0202-LPU18  2018      complete                     open   \n",
       "683  ocds-bulbcf-9611-0240-LPU18  2018      complete                     open   \n",
       "684  ocds-bulbcf-9611-1469-LPU18  2018      complete                     open   \n",
       "685  ocds-bulbcf-9611-1723-LPU18  2018     cancelled                     open   \n",
       "686  ocds-bulbcf-9611-1852-LPU18  2018      complete                     open   \n",
       "687  ocds-bulbcf-9763-1619-LPU18  2018      complete                     open   \n",
       "688  ocds-bulbcf-9982-0479-LPU18  2018     cancelled                     open   \n",
       "689  ocds-bulbcf-9982-1085-LPU18  2018     cancelled                     open   \n",
       "690  ocds-bulbcf-9982-1837-LPU17  2018     cancelled                     open   \n",
       "\n",
       "     tender/value/amount  tender/tenderPeriod/durationInDays  \\\n",
       "0           7.200000e+06                                 6.0   \n",
       "1           1.780000e+07                                 9.0   \n",
       "2           9.979200e+06                                12.0   \n",
       "3           3.563852e+06                                12.0   \n",
       "4           1.744380e+06                                 6.0   \n",
       "5           7.855000e+06                                11.0   \n",
       "6           2.283000e+06                                 7.0   \n",
       "7           2.400000e+07                                12.0   \n",
       "8           1.158462e+07                                11.0   \n",
       "9           4.200000e+07                                14.0   \n",
       "10          1.064400e+07                                11.0   \n",
       "11          4.080000e+06                                10.0   \n",
       "12          9.800000e+06                                 8.0   \n",
       "13          1.600000e+06                                 1.0   \n",
       "14          3.000000e+06                                 7.0   \n",
       "15          1.654901e+06                                 6.0   \n",
       "16          2.535964e+07                                59.0   \n",
       "17          1.411200e+07                                 8.0   \n",
       "18          1.266190e+07                                19.0   \n",
       "19          1.530000e+06                                 7.0   \n",
       "20          5.037223e+06                                11.0   \n",
       "21          3.615410e+06                                11.0   \n",
       "22          3.458232e+07                                25.0   \n",
       "23          2.800000e+06                                 7.0   \n",
       "24          3.615410e+06                                 7.0   \n",
       "25          2.400000e+06                                14.0   \n",
       "26          3.400000e+06                                 8.0   \n",
       "27          1.100000e+07                                38.0   \n",
       "28          3.000001e+06                                10.0   \n",
       "29          4.998000e+06                                12.0   \n",
       "..                   ...                                 ...   \n",
       "661         5.172502e+06                                 9.0   \n",
       "662         1.800000e+06                                 4.0   \n",
       "663         1.491516e+06                                 3.0   \n",
       "664         4.356470e+06                                 7.0   \n",
       "665         1.675379e+06                                 7.0   \n",
       "666         2.735000e+06                                 9.0   \n",
       "667         1.955980e+06                                12.0   \n",
       "668         2.880000e+06                                12.0   \n",
       "669         3.805443e+06                                 9.0   \n",
       "670         3.383870e+06                                 7.0   \n",
       "671         2.835000e+06                                12.0   \n",
       "672         2.419900e+06                                17.0   \n",
       "673         1.420000e+06                                 7.0   \n",
       "674         1.800000e+06                                 9.0   \n",
       "675         2.000000e+06                                 7.0   \n",
       "676         1.200000e+07                                27.0   \n",
       "677         4.400000e+06                                 9.0   \n",
       "678         1.341648e+06                                10.0   \n",
       "679         5.080803e+06                                13.0   \n",
       "680         1.877200e+06                                11.0   \n",
       "681         3.533200e+06                                12.0   \n",
       "682         2.796000e+06                                14.0   \n",
       "683         2.000000e+07                                 6.0   \n",
       "684         5.558680e+06                                 5.0   \n",
       "685         2.350000e+06                                 5.0   \n",
       "686         1.608000e+06                                 3.0   \n",
       "687         2.100000e+06                                11.0   \n",
       "688         6.500000e+08                                14.0   \n",
       "689         1.366200e+06                                 5.0   \n",
       "690         4.789075e+08                                61.0   \n",
       "\n",
       "     tender/items/0/quantity  outliers_value_amount  outliers_duration  \\\n",
       "0                        1.0               5.855357           0.666667   \n",
       "1                        1.0              16.148104           0.333333   \n",
       "2                     9072.0               8.553999           1.333333   \n",
       "3                       55.0               2.324607           1.333333   \n",
       "4                       96.0               0.557875           0.666667   \n",
       "5                      365.0               6.491371           1.000000   \n",
       "6                       12.0               1.080883           0.333333   \n",
       "7                        1.0              22.168389           1.333333   \n",
       "8                  8019713.0              10.112889           1.000000   \n",
       "9                        1.0              39.646637           2.000000   \n",
       "10                      24.0               9.199529           1.000000   \n",
       "11                      24.0               2.825794           0.666667   \n",
       "12                       5.0               8.379993           0.000000   \n",
       "13                       1.0               0.417680           2.333333   \n",
       "14                       1.0               1.777099           0.333333   \n",
       "15                     263.0               0.470990           0.666667   \n",
       "16                      72.0              23.488620          17.000000   \n",
       "17                       1.0              12.567005           0.000000   \n",
       "18                   10000.0              11.158938           3.666667   \n",
       "19                       4.0               0.349709           0.333333   \n",
       "20                     423.0               3.755271           1.000000   \n",
       "21                     443.0               2.374671           1.000000   \n",
       "22                      18.0              32.443968           5.666667   \n",
       "23                       1.0               1.582897           0.333333   \n",
       "24                     443.0               2.374671           0.333333   \n",
       "25                      49.0               1.194491           2.000000   \n",
       "26                       5.0               2.165505           0.000000   \n",
       "27                       1.0               9.545210          10.000000   \n",
       "28                    2280.0               1.777101           0.666667   \n",
       "29                    6000.0               3.717185           1.333333   \n",
       "..                       ...                    ...                ...   \n",
       "661                     63.0               3.886629           0.333333   \n",
       "662                     12.0               0.611883           1.333333   \n",
       "663                     12.0               0.312341           1.666667   \n",
       "664                  37058.0               3.094250           0.333333   \n",
       "665                  12595.0               0.490874           0.333333   \n",
       "666                     13.0               1.519781           0.333333   \n",
       "667                     20.0               0.763342           1.333333   \n",
       "668                     24.0               1.660578           1.333333   \n",
       "669                    519.0               2.559196           0.333333   \n",
       "670                   7209.0               2.149843           0.333333   \n",
       "671                      1.0               1.616882           1.333333   \n",
       "672                    700.0               1.213814           3.000000   \n",
       "673                      2.0               0.242898           0.333333   \n",
       "674                      1.0               0.611883           0.333333   \n",
       "675                      2.0               0.806086           0.333333   \n",
       "676                     12.0              10.516224           6.333333   \n",
       "677                      3.0               3.136519           0.333333   \n",
       "678                      1.0               0.166817           0.666667   \n",
       "679                     13.0               3.797588           1.666667   \n",
       "680                      1.0               0.686845           1.000000   \n",
       "681                    181.0               2.294844           1.333333   \n",
       "682                     12.0               1.579013           2.000000   \n",
       "683                      1.0              18.284334           0.666667   \n",
       "684                      3.0               4.261613           1.000000   \n",
       "685                      1.0               1.145940           1.000000   \n",
       "686                     12.0               0.425448           1.666667   \n",
       "687                      4.0               0.903187           1.000000   \n",
       "688                      9.0             630.023023           2.000000   \n",
       "689                   6600.0               0.190657           1.000000   \n",
       "690                      4.0             463.889852          17.666667   \n",
       "\n",
       "     outliers_cantidad  \n",
       "0             1.000000  \n",
       "1             1.000000  \n",
       "2            26.404834  \n",
       "3             0.836858  \n",
       "4             0.712991  \n",
       "5             0.099698  \n",
       "6             0.966767  \n",
       "7             1.000000  \n",
       "8         24227.737160  \n",
       "9             1.000000  \n",
       "10            0.930514  \n",
       "11            0.930514  \n",
       "12            0.987915  \n",
       "13            1.000000  \n",
       "14            1.000000  \n",
       "15            0.208459  \n",
       "16            0.785498  \n",
       "17            1.000000  \n",
       "18           29.208459  \n",
       "19            0.990937  \n",
       "20            0.274924  \n",
       "21            0.335347  \n",
       "22            0.948640  \n",
       "23            1.000000  \n",
       "24            0.335347  \n",
       "25            0.854985  \n",
       "26            0.987915  \n",
       "27            1.000000  \n",
       "28            5.885196  \n",
       "29           17.123867  \n",
       "..                 ...  \n",
       "661           0.812689  \n",
       "662           0.966767  \n",
       "663           0.966767  \n",
       "664         110.954683  \n",
       "665          37.048338  \n",
       "666           0.963746  \n",
       "667           0.942598  \n",
       "668           0.930514  \n",
       "669           0.564955  \n",
       "670          20.776435  \n",
       "671           1.000000  \n",
       "672           1.111782  \n",
       "673           0.996979  \n",
       "674           1.000000  \n",
       "675           0.996979  \n",
       "676           0.966767  \n",
       "677           0.993958  \n",
       "678           1.000000  \n",
       "679           0.963746  \n",
       "680           1.000000  \n",
       "681           0.456193  \n",
       "682           0.966767  \n",
       "683           1.000000  \n",
       "684           0.993958  \n",
       "685           1.000000  \n",
       "686           0.966767  \n",
       "687           0.990937  \n",
       "688           0.975831  \n",
       "689          18.936556  \n",
       "690           0.990937  \n",
       "\n",
       "[691 rows x 10 columns]"
      ]
     },
     "execution_count": 42,
     "metadata": {},
     "output_type": "execute_result"
    }
   ],
   "source": [
    "bac2018_lp_muestra2"
   ]
  },
  {
   "cell_type": "code",
   "execution_count": 22,
   "metadata": {},
   "outputs": [
    {
     "data": {
      "image/png": "[encoded data removed]",
      "text/plain": [
       "<Figure size 432x288 with 1 Axes>"
      ]
     },
     "metadata": {
      "needs_background": "light"
     },
     "output_type": "display_data"
    }
   ],
   "source": [
    "df = bac2018_lp_muestra1\n",
    "sns.boxplot( y=df[\"tender/value/amount\"], palette=\"Blues\");"
   ]
  },
  {
   "cell_type": "code",
   "execution_count": 44,
   "metadata": {},
   "outputs": [
    {
     "data": {
      "image/png": "[encoded data removed]",
      "text/plain": [
       "<Figure size 432x288 with 1 Axes>"
      ]
     },
     "metadata": {
      "needs_background": "light"
     },
     "output_type": "display_data"
    }
   ],
   "source": [
    "df = bac2018_lp_muestra2[bac2018_lp_muestra2['outliers_value_amount']<=5]\n",
    "sns.boxplot( y=df[\"tender/value/amount\"], palette=\"Blues\");"
   ]
  },
  {
   "cell_type": "code",
   "execution_count": 46,
   "metadata": {
    "scrolled": true
   },
   "outputs": [],
   "source": [
    "bac2018_lp_muestra2=bac2018_lp_muestra2[bac2018_lp_muestra2['outliers_value_amount']<=5]"
   ]
  },
  {
   "cell_type": "code",
   "execution_count": null,
   "metadata": {},
   "outputs": [],
   "source": []
  },
  {
   "cell_type": "markdown",
   "metadata": {},
   "source": [
    "## Estandarizacion"
   ]
  },
  {
   "cell_type": "code",
   "execution_count": 47,
   "metadata": {},
   "outputs": [],
   "source": [
    "X1 = bac2018_lp_muestra1.iloc[:,4:7].values\n",
    "\n",
    "X2 = bac2018_lp_muestra2.iloc[:,4:7].values\n",
    "\n",
    "y1 = bac2018_lp_muestra1.iloc[:,2].values\n",
    "y2 = bac2018_lp_muestra2.iloc[:,2].values\n",
    "\n"
   ]
  },
  {
   "cell_type": "code",
   "execution_count": 48,
   "metadata": {},
   "outputs": [],
   "source": [
    "#Aplicamos una transformación de los datos para poder aplicar las propiedades de la distribución normal\n",
    "\n",
    "from sklearn.preprocessing import StandardScaler\n",
    "X1std = StandardScaler().fit_transform(X1)\n",
    "X2std = StandardScaler().fit_transform(X2)\n"
   ]
  },
  {
   "cell_type": "code",
   "execution_count": 49,
   "metadata": {},
   "outputs": [
    {
     "data": {
      "text/plain": [
       "array([[ 2.03918849,  0.50824663, -0.30934476],\n",
       "       [ 1.36961895, -0.37527141, -0.30941447],\n",
       "       [ 1.53622545, -0.37527141, -0.31011158],\n",
       "       ...,\n",
       "       [-0.38132113, -0.37527141, -0.31011158],\n",
       "       [-0.22414518, -0.59615092, -0.31011158],\n",
       "       [ 1.03053384, -0.81703043, -0.30997216]])"
      ]
     },
     "execution_count": 49,
     "metadata": {},
     "output_type": "execute_result"
    }
   ],
   "source": [
    "X1std"
   ]
  },
  {
   "cell_type": "code",
   "execution_count": 50,
   "metadata": {},
   "outputs": [
    {
     "data": {
      "text/plain": [
       "array([[ 0.52052304,  0.4428138 , -0.35143047],\n",
       "       [-0.80195143, -0.6949053 , -0.3511121 ],\n",
       "       [-0.41045803, -0.50528545, -0.35176438],\n",
       "       ...,\n",
       "       [-0.90107859, -1.26376485, -0.35176438],\n",
       "       [-0.54347071,  0.25319395, -0.3518265 ],\n",
       "       [-1.07682978, -0.88452515, -0.3006067 ]])"
      ]
     },
     "execution_count": 50,
     "metadata": {},
     "output_type": "execute_result"
    }
   ],
   "source": [
    "X2std"
   ]
  },
  {
   "cell_type": "code",
   "execution_count": 51,
   "metadata": {},
   "outputs": [],
   "source": [
    "np.set_printoptions(suppress=True)"
   ]
  },
  {
   "cell_type": "markdown",
   "metadata": {},
   "source": [
    "# Calculamos la matriz de covarianza"
   ]
  },
  {
   "cell_type": "markdown",
   "metadata": {},
   "source": [
    "Tiene 1 en la diagonal principal, al estandarizar las variables su varianza es igual a 1. "
   ]
  },
  {
   "cell_type": "code",
   "execution_count": 52,
   "metadata": {},
   "outputs": [
    {
     "name": "stdout",
     "output_type": "stream",
     "text": [
      "Matriz de covarianza de los datos estandarizados 1: \n",
      "[[1.00144928 0.21781388 0.24891959]\n",
      " [0.21781388 1.00144928 0.07215991]\n",
      " [0.24891959 0.07215991 1.00144928]]\n"
     ]
    }
   ],
   "source": [
    "\n",
    "X1_cov=np.cov(X1std.T)\n",
    "print('Matriz de covarianza de los datos estandarizados 1: \\n%s' %np.cov(X1std.T))"
   ]
  },
  {
   "cell_type": "code",
   "execution_count": 53,
   "metadata": {
    "collapsed": true
   },
   "outputs": [
    {
     "ename": "NameError",
     "evalue": "name 'X_std17' is not defined",
     "output_type": "error",
     "traceback": [
      "\u001b[1;31m---------------------------------------------------------------------------\u001b[0m",
      "\u001b[1;31mNameError\u001b[0m                                 Traceback (most recent call last)",
      "\u001b[1;32m<ipython-input-53-6c22184fea3f>\u001b[0m in \u001b[0;36m<module>\u001b[1;34m()\u001b[0m\n\u001b[1;32m----> 1\u001b[1;33m pd.DataFrame(np.cov(X_std17.T), columns=['tender/value/amount', 'tender/tenderPeriod/durationInDays',\n\u001b[0m\u001b[0;32m      2\u001b[0m        \u001b[1;34m'tender/items/0/quantity'\u001b[0m\u001b[1;33m]\u001b[0m\u001b[1;33m,\u001b[0m \u001b[0mindex\u001b[0m\u001b[1;33m=\u001b[0m\u001b[1;33m[\u001b[0m\u001b[1;34m'tender/value/amount'\u001b[0m\u001b[1;33m,\u001b[0m \u001b[1;34m'tender/tenderPeriod/durationInDays'\u001b[0m\u001b[1;33m,\u001b[0m\u001b[1;33m\u001b[0m\u001b[1;33m\u001b[0m\u001b[0m\n\u001b[0;32m      3\u001b[0m        'tender/items/0/quantity']).to_excel('cov17.xlsx', index=False)\n",
      "\u001b[1;31mNameError\u001b[0m: name 'X_std17' is not defined"
     ]
    }
   ],
   "source": [
    "pd.DataFrame(np.cov(X_std17.T), columns=['tender/value/amount', 'tender/tenderPeriod/durationInDays',\n",
    "       'tender/items/0/quantity'], index=['tender/value/amount', 'tender/tenderPeriod/durationInDays',\n",
    "       'tender/items/0/quantity']).to_excel('cov17.xlsx', index=False)"
   ]
  },
  {
   "cell_type": "code",
   "execution_count": 54,
   "metadata": {},
   "outputs": [
    {
     "name": "stdout",
     "output_type": "stream",
     "text": [
      "Matriz de covarianza de los datos estandarizados 2: \n",
      "[[1.00194175 0.09059408 0.11623805]\n",
      " [0.09059408 1.00194175 0.04474245]\n",
      " [0.11623805 0.04474245 1.00194175]]\n"
     ]
    }
   ],
   "source": [
    "X2_cov=np.cov(X2std.T)\n",
    "\n",
    "print('Matriz de covarianza de los datos estandarizados 2: \\n%s' %np.cov(X2std.T))"
   ]
  },
  {
   "cell_type": "code",
   "execution_count": 50,
   "metadata": {},
   "outputs": [],
   "source": [
    "pd.DataFrame(np.cov(X_std18.T), columns=['tender/value/amount', 'tender/tenderPeriod/durationInDays',\n",
    "       'tender/items/0/quantity'], index=['tender/value/amount', 'tender/tenderPeriod/durationInDays',\n",
    "       'tender/items/0/quantity']).to_excel('cov18.xlsx', index=False)"
   ]
  },
  {
   "cell_type": "markdown",
   "metadata": {},
   "source": [
    "# Calculamos los autovalores y autovectores de la matriz y los mostramos\n"
   ]
  },
  {
   "cell_type": "code",
   "execution_count": 55,
   "metadata": {},
   "outputs": [
    {
     "name": "stdout",
     "output_type": "stream",
     "text": [
      "Autovectores \n",
      "[[ 0.6678198   0.74363843  0.03191545]\n",
      " [ 0.50222115 -0.41854042 -0.75670194]\n",
      " [ 0.54935474 -0.52136915  0.65298053]]\n",
      "\n",
      "Autovalores \n",
      "[1.37001561 0.70433861 0.92999361]\n"
     ]
    }
   ],
   "source": [
    "cov_mat1 = np.cov(X1std.T)\n",
    "\n",
    "eig_vals1, eig_vecs1 = np.linalg.eig(X1_cov)\n",
    "\n",
    "print('Autovectores \\n%s' %eig_vecs1)\n",
    "print('\\nAutovalores \\n%s' %eig_vals1)"
   ]
  },
  {
   "cell_type": "code",
   "execution_count": 56,
   "metadata": {},
   "outputs": [
    {
     "name": "stdout",
     "output_type": "stream",
     "text": [
      "Autovectores \n",
      "[[ 0.65240586  0.75261153  0.08912059]\n",
      " [ 0.4957115  -0.33481817 -0.80135317]\n",
      " [ 0.57326845 -0.5669856   0.59151552]]\n",
      "\n",
      "Autovalores \n",
      "[1.17291528 0.87406988 0.95884009]\n"
     ]
    }
   ],
   "source": [
    "cov_mat2 = np.cov(X2std.T)\n",
    "\n",
    "eig_vals2, eig_vecs2 = np.linalg.eig(X2_cov)\n",
    "\n",
    "print('Autovectores \\n%s' %eig_vecs2)\n",
    "print('\\nAutovalores \\n%s' %eig_vals2)"
   ]
  },
  {
   "cell_type": "code",
   "execution_count": null,
   "metadata": {},
   "outputs": [],
   "source": []
  },
  {
   "cell_type": "code",
   "execution_count": 57,
   "metadata": {},
   "outputs": [
    {
     "name": "stdout",
     "output_type": "stream",
     "text": [
      "Autovalores en orden descendiente:\n",
      "1.370015610680749\n",
      "Autovectores:\n",
      "[0.6678198  0.50222115 0.54935474]\n",
      "Autovalores en orden descendiente:\n",
      "0.9299936053995016\n",
      "Autovectores:\n",
      "[ 0.03191545 -0.75670194  0.65298053]\n",
      "Autovalores en orden descendiente:\n",
      "0.7043386100067057\n",
      "Autovectores:\n",
      "[ 0.74363843 -0.41854042 -0.52136915]\n"
     ]
    }
   ],
   "source": [
    "#  Hacemos una lista de parejas (autovector, autovalor) \n",
    "eig_pairs = [(np.abs(eig_vals1[i]), eig_vecs1[:,i]) for i in range(len(eig_vals1))]\n",
    "\n",
    "# Ordenamos estas parejas den orden descendiente con la función sort\n",
    "eig_pairs.sort(key=lambda x: x[0], reverse=True)\n",
    "\n",
    "# Visualizamos la lista de autovalores en orden desdenciente\n",
    "\n",
    "for i in eig_pairs:\n",
    "    print('Autovalores en orden descendiente:')\n",
    "    print(i[0])\n",
    "    print('Autovectores:')\n",
    "    print(i[1])\n",
    "    "
   ]
  },
  {
   "cell_type": "code",
   "execution_count": 58,
   "metadata": {},
   "outputs": [
    {
     "name": "stdout",
     "output_type": "stream",
     "text": [
      "Autovalores en orden descendiente:\n",
      "1.1729152786542092\n",
      "Autovectores:\n",
      "[0.65240586 0.4957115  0.57326845]\n",
      "Autovalores en orden descendiente:\n",
      "0.9588400865871967\n",
      "Autovectores:\n",
      "[ 0.08912059 -0.80135317  0.59151552]\n",
      "Autovalores en orden descendiente:\n",
      "0.8740698774770398\n",
      "Autovectores:\n",
      "[ 0.75261153 -0.33481817 -0.5669856 ]\n"
     ]
    }
   ],
   "source": [
    "#  Hacemos una lista de parejas (autovector, autovalor) \n",
    "eig_pairs = [(np.abs(eig_vals2[i]), eig_vecs2[:,i]) for i in range(len(eig_vals2))]\n",
    "\n",
    "# Ordenamos estas parejas den orden descendiente con la función sort\n",
    "eig_pairs.sort(key=lambda x: x[0], reverse=True)\n",
    "\n",
    "# Visualizamos la lista de autovalores en orden desdenciente\n",
    "\n",
    "for i in eig_pairs:\n",
    "    print('Autovalores en orden descendiente:')\n",
    "    print(i[0])\n",
    "    print('Autovectores:')\n",
    "    print(i[1])"
   ]
  },
  {
   "cell_type": "code",
   "execution_count": null,
   "metadata": {},
   "outputs": [],
   "source": []
  },
  {
   "cell_type": "code",
   "execution_count": 59,
   "metadata": {},
   "outputs": [],
   "source": [
    "import matplotlib.pyplot as plt\n",
    "%matplotlib inline"
   ]
  },
  {
   "cell_type": "code",
   "execution_count": 61,
   "metadata": {},
   "outputs": [
    {
     "data": {
      "image/png": "[encoded data removed]",
      "text/plain": [
       "<Figure size 720x432 with 1 Axes>"
      ]
     },
     "metadata": {
      "needs_background": "light"
     },
     "output_type": "display_data"
    }
   ],
   "source": [
    "# A partir de los autovalores, calculamos la varianza explicada\n",
    "\n",
    "tot = sum(eig_vals1)\n",
    "var_exp = [(i / tot)*100 for i in sorted(eig_vals1, reverse=True)]\n",
    "cum_var_exp = np.cumsum(var_exp)\n",
    "# Representamos en un diagrama de barras la varianza explicada por cada autovalor, y la acumulada\n",
    "with plt.style.context('seaborn-pastel'):\n",
    "    plt.figure(figsize=(10, 6))\n",
    "\n",
    "    plt.bar(range(3), var_exp, alpha=0.5, align='center',\n",
    "            label='Varianza individual explicada', color='g')\n",
    "    plt.step(range(3), cum_var_exp, where='mid', linestyle='--', label='Varianza explicada acumulada')\n",
    "    plt.ylabel('Ratio de Varianza Explicada')\n",
    "    plt.xlabel('Componentes Principales')\n",
    "    plt.legend(loc='best')\n",
    "    plt.tight_layout()"
   ]
  },
  {
   "cell_type": "code",
   "execution_count": 62,
   "metadata": {},
   "outputs": [
    {
     "data": {
      "text/plain": [
       "[45.601098474178336, 30.954924637031173, 23.443976888790495]"
      ]
     },
     "execution_count": 62,
     "metadata": {},
     "output_type": "execute_result"
    }
   ],
   "source": [
    "var_exp"
   ]
  },
  {
   "cell_type": "code",
   "execution_count": 63,
   "metadata": {},
   "outputs": [
    {
     "data": {
      "text/plain": [
       "76.55602311120951"
      ]
     },
     "execution_count": 63,
     "metadata": {},
     "output_type": "execute_result"
    }
   ],
   "source": [
    "var_exp[0]+var_exp[1]"
   ]
  },
  {
   "cell_type": "code",
   "execution_count": 64,
   "metadata": {},
   "outputs": [
    {
     "data": {
      "image/png": "[encoded data removed]",
      "text/plain": [
       "<Figure size 720x432 with 1 Axes>"
      ]
     },
     "metadata": {
      "needs_background": "light"
     },
     "output_type": "display_data"
    }
   ],
   "source": [
    "# A partir de los autovalores, calculamos la varianza explicada\n",
    "\n",
    "tot = sum(eig_vals2)\n",
    "var_exp = [(i / tot)*100 for i in sorted(eig_vals2, reverse=True)]\n",
    "cum_var_exp = np.cumsum(var_exp)\n",
    "# Representamos en un diagrama de barras la varianza explicada por cada autovalor, y la acumulada\n",
    "with plt.style.context('seaborn-pastel'):\n",
    "    plt.figure(figsize=(10, 6))\n",
    "\n",
    "    plt.bar(range(3), var_exp, alpha=0.5, align='center',\n",
    "            label='Varianza individual explicada', color='g')\n",
    "    plt.step(range(3), cum_var_exp, where='mid', linestyle='--', label='Varianza explicada acumulada')\n",
    "    plt.ylabel('Ratio de Varianza Explicada')\n",
    "    plt.xlabel('Componentes Principales')\n",
    "    plt.legend(loc='best')\n",
    "    plt.tight_layout()"
   ]
  },
  {
   "cell_type": "code",
   "execution_count": 65,
   "metadata": {},
   "outputs": [
    {
     "data": {
      "text/plain": [
       "70.9208018798013"
      ]
     },
     "execution_count": 65,
     "metadata": {},
     "output_type": "execute_result"
    }
   ],
   "source": [
    "var_exp[0]+var_exp[1]"
   ]
  },
  {
   "cell_type": "code",
   "execution_count": 66,
   "metadata": {},
   "outputs": [
    {
     "data": {
      "text/plain": [
       "29.07919812019868"
      ]
     },
     "execution_count": 66,
     "metadata": {},
     "output_type": "execute_result"
    }
   ],
   "source": [
    "var_exp[0]+var_exp[1]\n",
    "var_exp[2]"
   ]
  },
  {
   "cell_type": "code",
   "execution_count": 68,
   "metadata": {
    "scrolled": true
   },
   "outputs": [
    {
     "data": {
      "text/plain": [
       "array(['complete', 'cancelled', 'active', 'unsuccessful'], dtype=object)"
      ]
     },
     "execution_count": 68,
     "metadata": {},
     "output_type": "execute_result"
    }
   ],
   "source": [
    "pd.Series(y2).unique()"
   ]
  },
  {
   "cell_type": "markdown",
   "metadata": {},
   "source": [
    "## Ejecuto el algoritmo PCA"
   ]
  },
  {
   "cell_type": "markdown",
   "metadata": {},
   "source": [
    "## muestra 1"
   ]
  },
  {
   "cell_type": "code",
   "execution_count": 70,
   "metadata": {},
   "outputs": [],
   "source": [
    "pca = PCA(n_components=2)\n",
    "principalComponents = pca.fit_transform(X1std)\n",
    "principalDf = pd.DataFrame(data = principalComponents\n",
    "             , columns = ['principal component 1', 'principal component 2'])"
   ]
  },
  {
   "cell_type": "markdown",
   "metadata": {},
   "source": [
    "## agrego la columna con las etiquetas que me interesan"
   ]
  },
  {
   "cell_type": "code",
   "execution_count": 71,
   "metadata": {},
   "outputs": [],
   "source": [
    "finalDf = pd.concat([principalDf,pd.Series(y1)], axis = 1)\n",
    "\n"
   ]
  },
  {
   "cell_type": "code",
   "execution_count": 74,
   "metadata": {},
   "outputs": [
    {
     "data": {
      "text/plain": [
       "array([[ 0.78166749,  0.03077804],\n",
       "       [ 0.58783814, -0.72973442],\n",
       "       [ 0.6430069 ,  0.62970946]])"
      ]
     },
     "execution_count": 74,
     "metadata": {},
     "output_type": "execute_result"
    }
   ],
   "source": [
    "## Mediante la carga factorial de cada variable original respecto de los componentes seleccionados (1 y 2)\n",
    "pca.fit(X1std)\n",
    "pca.components_.T * np.sqrt(pca.explained_variance_)"
   ]
  },
  {
   "cell_type": "code",
   "execution_count": 75,
   "metadata": {},
   "outputs": [
    {
     "data": {
      "text/html": [
       "<div>\n",
       "<style scoped>\n",
       "    .dataframe tbody tr th:only-of-type {\n",
       "        vertical-align: middle;\n",
       "    }\n",
       "\n",
       "    .dataframe tbody tr th {\n",
       "        vertical-align: top;\n",
       "    }\n",
       "\n",
       "    .dataframe thead th {\n",
       "        text-align: right;\n",
       "    }\n",
       "</style>\n",
       "<table border=\"1\" class=\"dataframe\">\n",
       "  <thead>\n",
       "    <tr style=\"text-align: right;\">\n",
       "      <th></th>\n",
       "      <th>PC1</th>\n",
       "      <th>PC2</th>\n",
       "    </tr>\n",
       "  </thead>\n",
       "  <tbody>\n",
       "    <tr>\n",
       "      <th>tender/value/amount</th>\n",
       "      <td>0.781667</td>\n",
       "      <td>0.030778</td>\n",
       "    </tr>\n",
       "    <tr>\n",
       "      <th>tender/tenderPeriod/durationInDays</th>\n",
       "      <td>0.587838</td>\n",
       "      <td>-0.729734</td>\n",
       "    </tr>\n",
       "    <tr>\n",
       "      <th>tender/items/0/quantity</th>\n",
       "      <td>0.643007</td>\n",
       "      <td>0.629709</td>\n",
       "    </tr>\n",
       "  </tbody>\n",
       "</table>\n",
       "</div>"
      ],
      "text/plain": [
       "                                         PC1       PC2\n",
       "tender/value/amount                 0.781667  0.030778\n",
       "tender/tenderPeriod/durationInDays  0.587838 -0.729734\n",
       "tender/items/0/quantity             0.643007  0.629709"
      ]
     },
     "execution_count": 75,
     "metadata": {},
     "output_type": "execute_result"
    }
   ],
   "source": [
    "pd.DataFrame(pca.components_.T * np.sqrt(pca.explained_variance_), columns=['PC1', 'PC2'], index=['tender/value/amount', 'tender/tenderPeriod/durationInDays',\n",
    "       'tender/items/0/quantity'])"
   ]
  },
  {
   "cell_type": "code",
   "execution_count": 103,
   "metadata": {},
   "outputs": [],
   "source": [
    "## PC1 esta correlacionada con las variables 1 y 3\n",
    "## PC2 correlacionada con la variable 2"
   ]
  },
  {
   "cell_type": "markdown",
   "metadata": {},
   "source": [
    "El primer factor esta fuertemente correlacionado con las variables originales 1 (tender/value/amount) y 3 (tender/items/0/quantity),\n",
    "\n",
    "mientras que el segundo factor esta fuertemente correlacionado con la varible original 2 (tender/tenderPeriod/durationInDays)"
   ]
  },
  {
   "cell_type": "markdown",
   "metadata": {},
   "source": [
    "# Etiqueto PC1: \"Precio y cantidad\" en tanto esta afectado por el monto total por el cual el gobierno esta dispuesto a licitar\n",
    "\n",
    "\n",
    "# Etiqueto PC2: \"Duración del proceso\" en tanto esta afectado por la duración del proceso licitatorio.        "
   ]
  },
  {
   "cell_type": "code",
   "execution_count": 76,
   "metadata": {},
   "outputs": [],
   "source": [
    "finalDf.columns=['Precio y cantidad', 'Duración del proceso', 'target']"
   ]
  },
  {
   "cell_type": "markdown",
   "metadata": {},
   "source": [
    "\n",
    "## Ploteo los resultados"
   ]
  },
  {
   "cell_type": "code",
   "execution_count": 79,
   "metadata": {},
   "outputs": [
    {
     "data": {
      "image/png": "[encoded data removed]",
      "text/plain": [
       "<Figure size 720x720 with 1 Axes>"
      ]
     },
     "metadata": {
      "needs_background": "light"
     },
     "output_type": "display_data"
    }
   ],
   "source": [
    "fig = plt.figure(figsize = (10,10))\n",
    "ax = fig.add_subplot(1,1,1) \n",
    "ax.set_xlabel('Precio y cantidad', fontsize = 15)\n",
    "ax.set_ylabel('Duración del proceso', fontsize = 15)\n",
    "ax.set_title('2 component PCA', fontsize = 20)\n",
    "targets = ['complete', 'cancelled', 'unsuccessful']\n",
    "colors = [ 'g', 'b', 'r']\n",
    "for target, color in zip(targets,colors):\n",
    "    indicesToKeep = finalDf['target'] == target\n",
    "    ax.scatter(finalDf.loc[indicesToKeep, 'Precio y cantidad']\n",
    "               , finalDf.loc[indicesToKeep, 'Duración del proceso']\n",
    "               , c = color\n",
    "               , s = 10)\n",
    "ax.legend(targets)\n",
    "ax.grid()"
   ]
  },
  {
   "cell_type": "code",
   "execution_count": 80,
   "metadata": {},
   "outputs": [
    {
     "data": {
      "image/png": "[encoded data removed]",
      "text/plain": [
       "<Figure size 720x720 with 1 Axes>"
      ]
     },
     "metadata": {
      "needs_background": "light"
     },
     "output_type": "display_data"
    }
   ],
   "source": [
    "fig = plt.figure(figsize = (10,10))\n",
    "ax = fig.add_subplot(1,1,1) \n",
    "ax.set_xlabel('Precio y cantidad', fontsize = 15)\n",
    "ax.set_ylabel('Duración del proceso', fontsize = 15)\n",
    "ax.set_title('2 component PCA', fontsize = 20)\n",
    "targets = ['complete', ]\n",
    "colors = [ 'g',]\n",
    "for target, color in zip(targets,colors):\n",
    "    indicesToKeep = finalDf['target'] == target\n",
    "    ax.scatter(finalDf.loc[indicesToKeep, 'Precio y cantidad']\n",
    "               , finalDf.loc[indicesToKeep, 'Duración del proceso']\n",
    "               , c = color\n",
    "               , s = 10)\n",
    "ax.legend(targets)\n",
    "ax.grid()"
   ]
  },
  {
   "cell_type": "code",
   "execution_count": 81,
   "metadata": {},
   "outputs": [
    {
     "data": {
      "image/png": "[encoded data removed]",
      "text/plain": [
       "<Figure size 720x720 with 1 Axes>"
      ]
     },
     "metadata": {
      "needs_background": "light"
     },
     "output_type": "display_data"
    }
   ],
   "source": [
    "fig = plt.figure(figsize = (10,10))\n",
    "ax = fig.add_subplot(1,1,1) \n",
    "ax.set_xlabel('Precio y cantidad', fontsize = 15)\n",
    "ax.set_ylabel('Duración del proceso', fontsize = 15)\n",
    "ax.set_title('2 component PCA', fontsize = 20)\n",
    "targets = [ 'cancelled',]\n",
    "colors = [  'b']\n",
    "for target, color in zip(targets,colors):\n",
    "    indicesToKeep = finalDf['target'] == target\n",
    "    ax.scatter(finalDf.loc[indicesToKeep, 'Precio y cantidad']\n",
    "               , finalDf.loc[indicesToKeep, 'Duración del proceso']\n",
    "               , c = color\n",
    "               , s = 10)\n",
    "ax.legend(targets)\n",
    "ax.grid()"
   ]
  },
  {
   "cell_type": "code",
   "execution_count": 92,
   "metadata": {},
   "outputs": [
    {
     "data": {
      "image/png": "[encoded data removed]",
      "text/plain": [
       "<Figure size 1152x576 with 3 Axes>"
      ]
     },
     "metadata": {},
     "output_type": "display_data"
    }
   ],
   "source": [
    "fig, (vax, hax, fax) = plt.subplots(1, 3, figsize=(16, 8))\n",
    "\n",
    "# ploteo los puntos de los procesos cancelados en el nuevo par de ejes\n",
    "vax.set_xlabel('Precio y cantidad', fontsize = 15)\n",
    "vax.set_ylabel('Duración del proceso', fontsize = 15)\n",
    "vax.set_title('Licitaciones públicas canceladas', fontsize = 20)\n",
    "vax.set_xlim(-2,7)\n",
    "vax.set_ylim(-4,6)\n",
    "\n",
    "targets = ['cancelled']\n",
    "colors = [ 'r']\n",
    "for target, color in zip(targets,colors):\n",
    "    indicesToKeep = finalDf['target'] == target\n",
    "    vax.scatter(finalDf.loc[indicesToKeep, 'Precio y cantidad']\n",
    "               , finalDf.loc[indicesToKeep, 'Duración del proceso']\n",
    "               , c = color\n",
    "               , s = 15)\n",
    "\n",
    "vax.legend(targets)\n",
    "vax.grid()\n",
    "\n",
    "# ploteo los puntos de los procesos completos en el nuevo par de ejes\n",
    "hax.set_xlabel('Precio y cantidad', fontsize = 15)\n",
    "hax.set_ylabel('Duración del proceso', fontsize = 15)\n",
    "hax.set_title('Licitaciones públicas completas', fontsize = 20)\n",
    "hax.set_xlim(-2,7)\n",
    "hax.set_ylim(-4,6)\n",
    "\n",
    "targets = ['complete']\n",
    "colors = [ 'g']\n",
    "for target, color in zip(targets,colors):\n",
    "    indicesToKeep = finalDf['target'] == target\n",
    "    hax.scatter(finalDf.loc[indicesToKeep, 'Precio y cantidad']\n",
    "               , finalDf.loc[indicesToKeep, 'Duración del proceso']\n",
    "               , c = color\n",
    "               , s = 15\n",
    "               , )\n",
    "hax.legend(targets)\n",
    "hax.grid()\n",
    "\n",
    "# ploteo los puntos de los procesos no exitosos en el nuevo par de ejes\n",
    "fax.set_xlabel('Precio y cantidad', fontsize = 15)\n",
    "fax.set_ylabel('Duración del proceso', fontsize = 15)\n",
    "fax.set_title('Licitaciones públicas desiertas', fontsize = 20)\n",
    "fax.set_xlim(-2,7)\n",
    "fax.set_ylim(-4,6)\n",
    "\n",
    "targets = ['unsuccessful']\n",
    "colors = [ 'y']\n",
    "for target, color in zip(targets,colors):\n",
    "    indicesToKeep = finalDf['target'] == target\n",
    "    fax.scatter(finalDf.loc[indicesToKeep, 'Precio y cantidad']\n",
    "               , finalDf.loc[indicesToKeep, 'Duración del proceso']\n",
    "               , c = color\n",
    "               , s = 15)\n",
    "fax.legend(targets)\n",
    "fax.grid()\n"
   ]
  },
  {
   "cell_type": "markdown",
   "metadata": {},
   "source": [
    "## Muestra 2"
   ]
  },
  {
   "cell_type": "code",
   "execution_count": 93,
   "metadata": {},
   "outputs": [],
   "source": [
    "pca = PCA(n_components=2)\n",
    "principalComponents = pca.fit_transform(X2std)\n",
    "principalDf = pd.DataFrame(data = principalComponents\n",
    "             , columns = ['principal component 1', 'principal component 2'])"
   ]
  },
  {
   "cell_type": "code",
   "execution_count": 94,
   "metadata": {},
   "outputs": [],
   "source": [
    "finalDf = pd.concat([principalDf,pd.Series(y2)], axis = 1)\n"
   ]
  },
  {
   "cell_type": "code",
   "execution_count": 95,
   "metadata": {},
   "outputs": [
    {
     "data": {
      "text/plain": [
       "array([[ 0.70656346, -0.08726722],\n",
       "       [ 0.53686157,  0.78468807],\n",
       "       [ 0.62085668, -0.57921425]])"
      ]
     },
     "execution_count": 95,
     "metadata": {},
     "output_type": "execute_result"
    }
   ],
   "source": [
    "## Mediante la carga factorial de cada variable original respecto de los componentes seleccionados (1 y 2)\n",
    "pca.fit(X2std)\n",
    "pca.components_.T * np.sqrt(pca.explained_variance_)"
   ]
  },
  {
   "cell_type": "code",
   "execution_count": 96,
   "metadata": {},
   "outputs": [
    {
     "data": {
      "text/html": [
       "<div>\n",
       "<style scoped>\n",
       "    .dataframe tbody tr th:only-of-type {\n",
       "        vertical-align: middle;\n",
       "    }\n",
       "\n",
       "    .dataframe tbody tr th {\n",
       "        vertical-align: top;\n",
       "    }\n",
       "\n",
       "    .dataframe thead th {\n",
       "        text-align: right;\n",
       "    }\n",
       "</style>\n",
       "<table border=\"1\" class=\"dataframe\">\n",
       "  <thead>\n",
       "    <tr style=\"text-align: right;\">\n",
       "      <th></th>\n",
       "      <th>PC1</th>\n",
       "      <th>PC2</th>\n",
       "    </tr>\n",
       "  </thead>\n",
       "  <tbody>\n",
       "    <tr>\n",
       "      <th>tender/value/amount</th>\n",
       "      <td>0.706563</td>\n",
       "      <td>-0.087267</td>\n",
       "    </tr>\n",
       "    <tr>\n",
       "      <th>tender/tenderPeriod/durationInDays</th>\n",
       "      <td>0.536862</td>\n",
       "      <td>0.784688</td>\n",
       "    </tr>\n",
       "    <tr>\n",
       "      <th>tender/items/0/quantity</th>\n",
       "      <td>0.620857</td>\n",
       "      <td>-0.579214</td>\n",
       "    </tr>\n",
       "  </tbody>\n",
       "</table>\n",
       "</div>"
      ],
      "text/plain": [
       "                                         PC1       PC2\n",
       "tender/value/amount                 0.706563 -0.087267\n",
       "tender/tenderPeriod/durationInDays  0.536862  0.784688\n",
       "tender/items/0/quantity             0.620857 -0.579214"
      ]
     },
     "execution_count": 96,
     "metadata": {},
     "output_type": "execute_result"
    }
   ],
   "source": [
    "pd.DataFrame(pca.components_.T * np.sqrt(pca.explained_variance_), columns=['PC1', 'PC2'], index=['tender/value/amount', 'tender/tenderPeriod/durationInDays',\n",
    "       'tender/items/0/quantity'])"
   ]
  },
  {
   "cell_type": "markdown",
   "metadata": {},
   "source": [
    "## Etiqueto PC1: \"Precio y cantidad\" en tanto esta afectado por el monto total por el cual el gobierno esta dispuesto a licitar\n",
    "## Etiqueto PC2: \"Duración del proceso\" en tanto esta afectado por la duración del proceso licitatorio."
   ]
  },
  {
   "cell_type": "code",
   "execution_count": 97,
   "metadata": {},
   "outputs": [],
   "source": [
    "finalDf.columns=['Precio y cantidad', 'Duración del proceso', 'target']"
   ]
  },
  {
   "cell_type": "code",
   "execution_count": 98,
   "metadata": {},
   "outputs": [
    {
     "data": {
      "image/png": "[encoded data removed]",
      "text/plain": [
       "<Figure size 720x720 with 1 Axes>"
      ]
     },
     "metadata": {},
     "output_type": "display_data"
    }
   ],
   "source": [
    "fig = plt.figure(figsize = (10,10))\n",
    "ax = fig.add_subplot(1,1,1) \n",
    "ax.set_xlabel('Precio y cantidad', fontsize = 15)\n",
    "ax.set_ylabel('Duración del proceso', fontsize = 15)\n",
    "ax.set_title('2 component PCA', fontsize = 20)\n",
    "targets = ['complete', 'cancelled', 'unsuccessful']\n",
    "colors = [ 'g', 'b', 'r']\n",
    "for target, color in zip(targets,colors):\n",
    "    indicesToKeep = finalDf['target'] == target\n",
    "    ax.scatter(finalDf.loc[indicesToKeep, 'Precio y cantidad']\n",
    "               , finalDf.loc[indicesToKeep, 'Duración del proceso']\n",
    "               , c = color\n",
    "               , s = 10)\n",
    "ax.legend(targets)\n",
    "ax.grid()"
   ]
  },
  {
   "cell_type": "code",
   "execution_count": 99,
   "metadata": {},
   "outputs": [
    {
     "data": {
      "image/png": "[encoded data removed]",
      "text/plain": [
       "<Figure size 720x720 with 1 Axes>"
      ]
     },
     "metadata": {},
     "output_type": "display_data"
    }
   ],
   "source": [
    "fig = plt.figure(figsize = (10,10))\n",
    "ax = fig.add_subplot(1,1,1) \n",
    "ax.set_xlabel('Precio y cantidad', fontsize = 15)\n",
    "ax.set_ylabel('Duración del proceso', fontsize = 15)\n",
    "ax.set_title('2 component PCA', fontsize = 20)\n",
    "targets = ['complete', ]\n",
    "colors = [ 'g',]\n",
    "for target, color in zip(targets,colors):\n",
    "    indicesToKeep = finalDf['target'] == target\n",
    "    ax.scatter(finalDf.loc[indicesToKeep, 'Precio y cantidad']\n",
    "               , finalDf.loc[indicesToKeep, 'Duración del proceso']\n",
    "               , c = color\n",
    "               , s = 10)\n",
    "ax.legend(targets)\n",
    "ax.grid()"
   ]
  },
  {
   "cell_type": "code",
   "execution_count": 100,
   "metadata": {},
   "outputs": [
    {
     "data": {
      "image/png": "[encoded data removed]",
      "text/plain": [
       "<Figure size 1152x576 with 3 Axes>"
      ]
     },
     "metadata": {},
     "output_type": "display_data"
    }
   ],
   "source": [
    "fig, (vax, hax, fax) = plt.subplots(1, 3, figsize=(16, 8))\n",
    "\n",
    "# ploteo los puntos de los procesos cancelados en el nuevo par de ejes\n",
    "vax.set_xlabel('Precio y cantidad', fontsize = 15)\n",
    "vax.set_ylabel('Duración del proceso', fontsize = 15)\n",
    "vax.set_title('Licitaciones públicas canceladas', fontsize = 20)\n",
    "vax.set_xlim(-2,7)\n",
    "vax.set_ylim(-4,6)\n",
    "\n",
    "targets = ['cancelled']\n",
    "colors = [ 'r']\n",
    "for target, color in zip(targets,colors):\n",
    "    indicesToKeep = finalDf['target'] == target\n",
    "    vax.scatter(finalDf.loc[indicesToKeep, 'Precio y cantidad']\n",
    "               , finalDf.loc[indicesToKeep, 'Duración del proceso']\n",
    "               , c = color\n",
    "               , s = 15)\n",
    "\n",
    "vax.legend(targets)\n",
    "vax.grid()\n",
    "\n",
    "# ploteo los puntos de los procesos completos en el nuevo par de ejes\n",
    "hax.set_xlabel('Precio y cantidad', fontsize = 15)\n",
    "hax.set_ylabel('Duración del proceso', fontsize = 15)\n",
    "hax.set_title('Licitaciones públicas completas', fontsize = 20)\n",
    "hax.set_xlim(-2,7)\n",
    "hax.set_ylim(-4,6)\n",
    "\n",
    "targets = ['complete']\n",
    "colors = [ 'g']\n",
    "for target, color in zip(targets,colors):\n",
    "    indicesToKeep = finalDf['target'] == target\n",
    "    hax.scatter(finalDf.loc[indicesToKeep, 'Precio y cantidad']\n",
    "               , finalDf.loc[indicesToKeep, 'Duración del proceso']\n",
    "               , c = color\n",
    "               , s = 15\n",
    "               , )\n",
    "hax.legend(targets)\n",
    "hax.grid()\n",
    "\n",
    "# ploteo los puntos de los procesos no exitosos en el nuevo par de ejes\n",
    "fax.set_xlabel('Precio y cantidad', fontsize = 15)\n",
    "fax.set_ylabel('Duración del proceso', fontsize = 15)\n",
    "fax.set_title('Licitaciones públicas desiertas', fontsize = 20)\n",
    "fax.set_xlim(-2,7)\n",
    "fax.set_ylim(-4,6)\n",
    "\n",
    "targets = ['unsuccessful']\n",
    "colors = [ 'y']\n",
    "for target, color in zip(targets,colors):\n",
    "    indicesToKeep = finalDf['target'] == target\n",
    "    fax.scatter(finalDf.loc[indicesToKeep, 'Precio y cantidad']\n",
    "               , finalDf.loc[indicesToKeep, 'Duración del proceso']\n",
    "               , c = color\n",
    "               , s = 15)\n",
    "fax.legend(targets)\n",
    "fax.grid()"
   ]
  },
  {
   "cell_type": "code",
   "execution_count": null,
   "metadata": {},
   "outputs": [],
   "source": []
  }
 ],
 "metadata": {
  "kernelspec": {
   "display_name": "Python 3",
   "language": "python",
   "name": "python3"
  },
  "language_info": {
   "codemirror_mode": {
    "name": "ipython",
    "version": 3
   },
   "file_extension": ".py",
   "mimetype": "text/x-python",
   "name": "python",
   "nbconvert_exporter": "python",
   "pygments_lexer": "ipython3",
   "version": "3.7.3"
  }
 },
 "nbformat": 4,
 "nbformat_minor": 2
}
